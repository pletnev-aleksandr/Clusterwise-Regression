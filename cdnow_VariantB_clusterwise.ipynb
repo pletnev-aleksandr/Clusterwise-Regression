{
 "cells": [
  {
   "cell_type": "code",
   "execution_count": 1,
   "metadata": {},
   "outputs": [],
   "source": [
    "batch_size_for_classification = 8000\n",
    "#prediction\n",
    "prediction_path = \"Export/cdnow/cdnow_prediction_variantB_\"+str(batch_size_for_classification+2000)+\"_clusterwise.csv\""
   ]
  },
  {
   "cell_type": "code",
   "execution_count": 2,
   "metadata": {},
   "outputs": [],
   "source": [
    "import numpy as np\n",
    "import pandas as pd\n",
    "from functools import reduce\n",
    "from joblib import Parallel, delayed\n",
    "from sklearn.base import clone\n",
    "from sklearn.metrics import mean_squared_error\n",
    "from sklearn.model_selection import ParameterGrid\n",
    "import networkx as nx\n",
    "from sklearn.preprocessing import MinMaxScaler\n",
    "import matplotlib.pyplot as plt\n",
    "from trmf import TRMFRegressor\n",
    "from sklearn.model_selection import train_test_split\n",
    "from sklearn.preprocessing import StandardScaler\n",
    "import datetime\n",
    "import random\n",
    "import rpy2\n",
    "import math\n",
    "import trmf\n",
    "from sklearn.model_selection import KFold, GridSearchCV\n",
    "import time\n",
    "import pickle\n",
    "import warnings\n",
    "warnings.filterwarnings(\"ignore\")\n",
    "from rpy2.robjects.packages import importr\n",
    "import rpy2.robjects.packages as rpackages\n",
    "import rpy2.robjects as robjects\n",
    "utils = rpackages.importr('utils')\n",
    "utils.chooseCRANmirror(ind=1) # select the first mirror in the list\n",
    "packnames = ['forecast']\n",
    "from rpy2.robjects.vectors import StrVector\n",
    "try:\n",
    "    base = importr('forecast')\n",
    "except:\n",
    "    utils.install_packages(StrVector('forecast'))\n",
    "    base = importr('forecast')"
   ]
  },
  {
   "cell_type": "code",
   "execution_count": 3,
   "metadata": {},
   "outputs": [],
   "source": [
    "# Path fo import files\n",
    "#input data\n",
    "import_data = \"import/CDNOW_master.txt\"\n",
    "\n",
    "#Clusters\n",
    "import_clusters = \"clusters/results_cdnow_ensembles.csv\""
   ]
  },
  {
   "cell_type": "markdown",
   "metadata": {},
   "source": [
    "### 0. Preprocessing cdnow"
   ]
  },
  {
   "cell_type": "code",
   "execution_count": 4,
   "metadata": {},
   "outputs": [],
   "source": [
    "df = pd.read_csv(import_data)"
   ]
  },
  {
   "cell_type": "code",
   "execution_count": 5,
   "metadata": {},
   "outputs": [
    {
     "data": {
      "text/html": [
       "<div>\n",
       "<style scoped>\n",
       "    .dataframe tbody tr th:only-of-type {\n",
       "        vertical-align: middle;\n",
       "    }\n",
       "\n",
       "    .dataframe tbody tr th {\n",
       "        vertical-align: top;\n",
       "    }\n",
       "\n",
       "    .dataframe thead th {\n",
       "        text-align: right;\n",
       "    }\n",
       "</style>\n",
       "<table border=\"1\" class=\"dataframe\">\n",
       "  <thead>\n",
       "    <tr style=\"text-align: right;\">\n",
       "      <th>Date</th>\n",
       "      <th>1997-01-01 00:00:00</th>\n",
       "      <th>1997-01-02 00:00:00</th>\n",
       "      <th>1997-01-03 00:00:00</th>\n",
       "      <th>1997-01-04 00:00:00</th>\n",
       "      <th>1997-01-05 00:00:00</th>\n",
       "      <th>1997-01-06 00:00:00</th>\n",
       "      <th>1997-01-07 00:00:00</th>\n",
       "      <th>1997-01-08 00:00:00</th>\n",
       "      <th>1997-01-09 00:00:00</th>\n",
       "      <th>1997-01-10 00:00:00</th>\n",
       "      <th>...</th>\n",
       "      <th>1998-06-21 00:00:00</th>\n",
       "      <th>1998-06-22 00:00:00</th>\n",
       "      <th>1998-06-23 00:00:00</th>\n",
       "      <th>1998-06-24 00:00:00</th>\n",
       "      <th>1998-06-25 00:00:00</th>\n",
       "      <th>1998-06-26 00:00:00</th>\n",
       "      <th>1998-06-27 00:00:00</th>\n",
       "      <th>1998-06-28 00:00:00</th>\n",
       "      <th>1998-06-29 00:00:00</th>\n",
       "      <th>1998-06-30 00:00:00</th>\n",
       "    </tr>\n",
       "    <tr>\n",
       "      <th>id</th>\n",
       "      <th></th>\n",
       "      <th></th>\n",
       "      <th></th>\n",
       "      <th></th>\n",
       "      <th></th>\n",
       "      <th></th>\n",
       "      <th></th>\n",
       "      <th></th>\n",
       "      <th></th>\n",
       "      <th></th>\n",
       "      <th></th>\n",
       "      <th></th>\n",
       "      <th></th>\n",
       "      <th></th>\n",
       "      <th></th>\n",
       "      <th></th>\n",
       "      <th></th>\n",
       "      <th></th>\n",
       "      <th></th>\n",
       "      <th></th>\n",
       "      <th></th>\n",
       "    </tr>\n",
       "  </thead>\n",
       "  <tbody>\n",
       "    <tr>\n",
       "      <th>8045</th>\n",
       "      <td>NaN</td>\n",
       "      <td>NaN</td>\n",
       "      <td>NaN</td>\n",
       "      <td>NaN</td>\n",
       "      <td>NaN</td>\n",
       "      <td>NaN</td>\n",
       "      <td>NaN</td>\n",
       "      <td>NaN</td>\n",
       "      <td>NaN</td>\n",
       "      <td>NaN</td>\n",
       "      <td>...</td>\n",
       "      <td>NaN</td>\n",
       "      <td>NaN</td>\n",
       "      <td>NaN</td>\n",
       "      <td>NaN</td>\n",
       "      <td>NaN</td>\n",
       "      <td>NaN</td>\n",
       "      <td>NaN</td>\n",
       "      <td>NaN</td>\n",
       "      <td>NaN</td>\n",
       "      <td>NaN</td>\n",
       "    </tr>\n",
       "    <tr>\n",
       "      <th>14214</th>\n",
       "      <td>NaN</td>\n",
       "      <td>NaN</td>\n",
       "      <td>NaN</td>\n",
       "      <td>NaN</td>\n",
       "      <td>NaN</td>\n",
       "      <td>NaN</td>\n",
       "      <td>NaN</td>\n",
       "      <td>NaN</td>\n",
       "      <td>NaN</td>\n",
       "      <td>NaN</td>\n",
       "      <td>...</td>\n",
       "      <td>NaN</td>\n",
       "      <td>NaN</td>\n",
       "      <td>NaN</td>\n",
       "      <td>NaN</td>\n",
       "      <td>NaN</td>\n",
       "      <td>NaN</td>\n",
       "      <td>NaN</td>\n",
       "      <td>NaN</td>\n",
       "      <td>NaN</td>\n",
       "      <td>NaN</td>\n",
       "    </tr>\n",
       "  </tbody>\n",
       "</table>\n",
       "<p>2 rows × 546 columns</p>\n",
       "</div>"
      ],
      "text/plain": [
       "Date   1997-01-01  1997-01-02  1997-01-03  1997-01-04  1997-01-05  1997-01-06  \\\n",
       "id                                                                              \n",
       "8045          NaN         NaN         NaN         NaN         NaN         NaN   \n",
       "14214         NaN         NaN         NaN         NaN         NaN         NaN   \n",
       "\n",
       "Date   1997-01-07  1997-01-08  1997-01-09  1997-01-10  ...  1998-06-21  \\\n",
       "id                                                     ...               \n",
       "8045          NaN         NaN         NaN         NaN  ...         NaN   \n",
       "14214         NaN         NaN         NaN         NaN  ...         NaN   \n",
       "\n",
       "Date   1998-06-22  1998-06-23  1998-06-24  1998-06-25  1998-06-26  1998-06-27  \\\n",
       "id                                                                              \n",
       "8045          NaN         NaN         NaN         NaN         NaN         NaN   \n",
       "14214         NaN         NaN         NaN         NaN         NaN         NaN   \n",
       "\n",
       "Date   1998-06-28  1998-06-29  1998-06-30  \n",
       "id                                         \n",
       "8045          NaN         NaN         NaN  \n",
       "14214         NaN         NaN         NaN  \n",
       "\n",
       "[2 rows x 546 columns]"
      ]
     },
     "execution_count": 5,
     "metadata": {},
     "output_type": "execute_result"
    }
   ],
   "source": [
    "df = pd.read_csv(import_data,header=None,names  =['id','Date','disks','price_purchase'],delim_whitespace=True,)\n",
    "df['Date'] = df[\"Date\"].apply(lambda x:datetime.datetime.strptime(str(x),\"%Y%m%d\"))\n",
    "df = df.drop(columns = ['disks'])\n",
    "df = df.groupby(by=['id','Date']).sum().reset_index()\n",
    "df = df.pivot(columns = 'Date',index = 'id',values = 'price_purchase')\n",
    "df.sample(2)"
   ]
  },
  {
   "cell_type": "markdown",
   "metadata": {},
   "source": [
    "## 0.1 Choose TS with given clusters and divide into test/train dataset"
   ]
  },
  {
   "cell_type": "code",
   "execution_count": 6,
   "metadata": {
    "scrolled": false
   },
   "outputs": [
    {
     "data": {
      "text/html": [
       "<div>\n",
       "<style scoped>\n",
       "    .dataframe tbody tr th:only-of-type {\n",
       "        vertical-align: middle;\n",
       "    }\n",
       "\n",
       "    .dataframe tbody tr th {\n",
       "        vertical-align: top;\n",
       "    }\n",
       "\n",
       "    .dataframe thead th {\n",
       "        text-align: right;\n",
       "    }\n",
       "</style>\n",
       "<table border=\"1\" class=\"dataframe\">\n",
       "  <thead>\n",
       "    <tr style=\"text-align: right;\">\n",
       "      <th></th>\n",
       "      <th>Unnamed: 0</th>\n",
       "      <th>clusters_r</th>\n",
       "      <th>clusters_m</th>\n",
       "      <th>clusters_f</th>\n",
       "      <th>GMM_Voting</th>\n",
       "      <th>GMM_Pair</th>\n",
       "    </tr>\n",
       "  </thead>\n",
       "  <tbody>\n",
       "    <tr>\n",
       "      <th>0</th>\n",
       "      <td>11770</td>\n",
       "      <td>0</td>\n",
       "      <td>0</td>\n",
       "      <td>0</td>\n",
       "      <td>2</td>\n",
       "      <td>6</td>\n",
       "    </tr>\n",
       "    <tr>\n",
       "      <th>1</th>\n",
       "      <td>14675</td>\n",
       "      <td>17</td>\n",
       "      <td>0</td>\n",
       "      <td>8</td>\n",
       "      <td>5</td>\n",
       "      <td>5</td>\n",
       "    </tr>\n",
       "    <tr>\n",
       "      <th>2</th>\n",
       "      <td>10026</td>\n",
       "      <td>2</td>\n",
       "      <td>0</td>\n",
       "      <td>3</td>\n",
       "      <td>0</td>\n",
       "      <td>3</td>\n",
       "    </tr>\n",
       "    <tr>\n",
       "      <th>3</th>\n",
       "      <td>13997</td>\n",
       "      <td>1</td>\n",
       "      <td>0</td>\n",
       "      <td>2</td>\n",
       "      <td>3</td>\n",
       "      <td>5</td>\n",
       "    </tr>\n",
       "    <tr>\n",
       "      <th>4</th>\n",
       "      <td>741</td>\n",
       "      <td>0</td>\n",
       "      <td>0</td>\n",
       "      <td>0</td>\n",
       "      <td>2</td>\n",
       "      <td>1</td>\n",
       "    </tr>\n",
       "  </tbody>\n",
       "</table>\n",
       "</div>"
      ],
      "text/plain": [
       "   Unnamed: 0  clusters_r  clusters_m  clusters_f  GMM_Voting  GMM_Pair\n",
       "0       11770           0           0           0           2         6\n",
       "1       14675          17           0           8           5         5\n",
       "2       10026           2           0           3           0         3\n",
       "3       13997           1           0           2           3         5\n",
       "4         741           0           0           0           2         1"
      ]
     },
     "execution_count": 6,
     "metadata": {},
     "output_type": "execute_result"
    }
   ],
   "source": [
    "cluster_TS  = pd.read_csv(import_clusters)\n",
    "cluster_TS.head()"
   ]
  },
  {
   "cell_type": "code",
   "execution_count": 7,
   "metadata": {},
   "outputs": [],
   "source": [
    "df_train = cluster_TS.merge(df,left_on = \"Unnamed: 0\", right_on = 'id')"
   ]
  },
  {
   "cell_type": "code",
   "execution_count": 8,
   "metadata": {
    "scrolled": false
   },
   "outputs": [
    {
     "data": {
      "text/html": [
       "<div>\n",
       "<style scoped>\n",
       "    .dataframe tbody tr th:only-of-type {\n",
       "        vertical-align: middle;\n",
       "    }\n",
       "\n",
       "    .dataframe tbody tr th {\n",
       "        vertical-align: top;\n",
       "    }\n",
       "\n",
       "    .dataframe thead th {\n",
       "        text-align: right;\n",
       "    }\n",
       "</style>\n",
       "<table border=\"1\" class=\"dataframe\">\n",
       "  <thead>\n",
       "    <tr style=\"text-align: right;\">\n",
       "      <th></th>\n",
       "      <th>clusters_r</th>\n",
       "      <th>clusters_m</th>\n",
       "      <th>clusters_f</th>\n",
       "      <th>GMM_Voting</th>\n",
       "      <th>GMM_Pair</th>\n",
       "      <th>1997-01-01 00:00:00</th>\n",
       "      <th>1997-01-02 00:00:00</th>\n",
       "      <th>1997-01-03 00:00:00</th>\n",
       "      <th>1997-01-04 00:00:00</th>\n",
       "      <th>1997-01-05 00:00:00</th>\n",
       "      <th>...</th>\n",
       "      <th>1998-06-21 00:00:00</th>\n",
       "      <th>1998-06-22 00:00:00</th>\n",
       "      <th>1998-06-23 00:00:00</th>\n",
       "      <th>1998-06-24 00:00:00</th>\n",
       "      <th>1998-06-25 00:00:00</th>\n",
       "      <th>1998-06-26 00:00:00</th>\n",
       "      <th>1998-06-27 00:00:00</th>\n",
       "      <th>1998-06-28 00:00:00</th>\n",
       "      <th>1998-06-29 00:00:00</th>\n",
       "      <th>1998-06-30 00:00:00</th>\n",
       "    </tr>\n",
       "    <tr>\n",
       "      <th>id</th>\n",
       "      <th></th>\n",
       "      <th></th>\n",
       "      <th></th>\n",
       "      <th></th>\n",
       "      <th></th>\n",
       "      <th></th>\n",
       "      <th></th>\n",
       "      <th></th>\n",
       "      <th></th>\n",
       "      <th></th>\n",
       "      <th></th>\n",
       "      <th></th>\n",
       "      <th></th>\n",
       "      <th></th>\n",
       "      <th></th>\n",
       "      <th></th>\n",
       "      <th></th>\n",
       "      <th></th>\n",
       "      <th></th>\n",
       "      <th></th>\n",
       "      <th></th>\n",
       "    </tr>\n",
       "  </thead>\n",
       "  <tbody>\n",
       "    <tr>\n",
       "      <th>11770</th>\n",
       "      <td>0</td>\n",
       "      <td>0</td>\n",
       "      <td>0</td>\n",
       "      <td>2</td>\n",
       "      <td>6</td>\n",
       "      <td>NaN</td>\n",
       "      <td>NaN</td>\n",
       "      <td>NaN</td>\n",
       "      <td>NaN</td>\n",
       "      <td>NaN</td>\n",
       "      <td>...</td>\n",
       "      <td>NaN</td>\n",
       "      <td>NaN</td>\n",
       "      <td>NaN</td>\n",
       "      <td>NaN</td>\n",
       "      <td>NaN</td>\n",
       "      <td>NaN</td>\n",
       "      <td>NaN</td>\n",
       "      <td>NaN</td>\n",
       "      <td>NaN</td>\n",
       "      <td>NaN</td>\n",
       "    </tr>\n",
       "    <tr>\n",
       "      <th>14675</th>\n",
       "      <td>17</td>\n",
       "      <td>0</td>\n",
       "      <td>8</td>\n",
       "      <td>5</td>\n",
       "      <td>5</td>\n",
       "      <td>NaN</td>\n",
       "      <td>NaN</td>\n",
       "      <td>NaN</td>\n",
       "      <td>NaN</td>\n",
       "      <td>NaN</td>\n",
       "      <td>...</td>\n",
       "      <td>NaN</td>\n",
       "      <td>NaN</td>\n",
       "      <td>NaN</td>\n",
       "      <td>NaN</td>\n",
       "      <td>NaN</td>\n",
       "      <td>NaN</td>\n",
       "      <td>NaN</td>\n",
       "      <td>NaN</td>\n",
       "      <td>NaN</td>\n",
       "      <td>NaN</td>\n",
       "    </tr>\n",
       "    <tr>\n",
       "      <th>10026</th>\n",
       "      <td>2</td>\n",
       "      <td>0</td>\n",
       "      <td>3</td>\n",
       "      <td>0</td>\n",
       "      <td>3</td>\n",
       "      <td>NaN</td>\n",
       "      <td>NaN</td>\n",
       "      <td>NaN</td>\n",
       "      <td>NaN</td>\n",
       "      <td>NaN</td>\n",
       "      <td>...</td>\n",
       "      <td>NaN</td>\n",
       "      <td>NaN</td>\n",
       "      <td>NaN</td>\n",
       "      <td>NaN</td>\n",
       "      <td>NaN</td>\n",
       "      <td>NaN</td>\n",
       "      <td>NaN</td>\n",
       "      <td>NaN</td>\n",
       "      <td>NaN</td>\n",
       "      <td>NaN</td>\n",
       "    </tr>\n",
       "    <tr>\n",
       "      <th>13997</th>\n",
       "      <td>1</td>\n",
       "      <td>0</td>\n",
       "      <td>2</td>\n",
       "      <td>3</td>\n",
       "      <td>5</td>\n",
       "      <td>NaN</td>\n",
       "      <td>NaN</td>\n",
       "      <td>NaN</td>\n",
       "      <td>NaN</td>\n",
       "      <td>NaN</td>\n",
       "      <td>...</td>\n",
       "      <td>NaN</td>\n",
       "      <td>NaN</td>\n",
       "      <td>NaN</td>\n",
       "      <td>NaN</td>\n",
       "      <td>NaN</td>\n",
       "      <td>NaN</td>\n",
       "      <td>NaN</td>\n",
       "      <td>NaN</td>\n",
       "      <td>NaN</td>\n",
       "      <td>NaN</td>\n",
       "    </tr>\n",
       "    <tr>\n",
       "      <th>741</th>\n",
       "      <td>0</td>\n",
       "      <td>0</td>\n",
       "      <td>0</td>\n",
       "      <td>2</td>\n",
       "      <td>1</td>\n",
       "      <td>NaN</td>\n",
       "      <td>NaN</td>\n",
       "      <td>NaN</td>\n",
       "      <td>43.13</td>\n",
       "      <td>NaN</td>\n",
       "      <td>...</td>\n",
       "      <td>NaN</td>\n",
       "      <td>NaN</td>\n",
       "      <td>NaN</td>\n",
       "      <td>NaN</td>\n",
       "      <td>NaN</td>\n",
       "      <td>NaN</td>\n",
       "      <td>NaN</td>\n",
       "      <td>NaN</td>\n",
       "      <td>NaN</td>\n",
       "      <td>NaN</td>\n",
       "    </tr>\n",
       "  </tbody>\n",
       "</table>\n",
       "<p>5 rows × 551 columns</p>\n",
       "</div>"
      ],
      "text/plain": [
       "       clusters_r  clusters_m  clusters_f  GMM_Voting  GMM_Pair  \\\n",
       "id                                                                \n",
       "11770           0           0           0           2         6   \n",
       "14675          17           0           8           5         5   \n",
       "10026           2           0           3           0         3   \n",
       "13997           1           0           2           3         5   \n",
       "741             0           0           0           2         1   \n",
       "\n",
       "       1997-01-01 00:00:00  1997-01-02 00:00:00  1997-01-03 00:00:00  \\\n",
       "id                                                                     \n",
       "11770                  NaN                  NaN                  NaN   \n",
       "14675                  NaN                  NaN                  NaN   \n",
       "10026                  NaN                  NaN                  NaN   \n",
       "13997                  NaN                  NaN                  NaN   \n",
       "741                    NaN                  NaN                  NaN   \n",
       "\n",
       "       1997-01-04 00:00:00  1997-01-05 00:00:00  ...  1998-06-21 00:00:00  \\\n",
       "id                                               ...                        \n",
       "11770                  NaN                  NaN  ...                  NaN   \n",
       "14675                  NaN                  NaN  ...                  NaN   \n",
       "10026                  NaN                  NaN  ...                  NaN   \n",
       "13997                  NaN                  NaN  ...                  NaN   \n",
       "741                  43.13                  NaN  ...                  NaN   \n",
       "\n",
       "       1998-06-22 00:00:00  1998-06-23 00:00:00  1998-06-24 00:00:00  \\\n",
       "id                                                                     \n",
       "11770                  NaN                  NaN                  NaN   \n",
       "14675                  NaN                  NaN                  NaN   \n",
       "10026                  NaN                  NaN                  NaN   \n",
       "13997                  NaN                  NaN                  NaN   \n",
       "741                    NaN                  NaN                  NaN   \n",
       "\n",
       "       1998-06-25 00:00:00  1998-06-26 00:00:00  1998-06-27 00:00:00  \\\n",
       "id                                                                     \n",
       "11770                  NaN                  NaN                  NaN   \n",
       "14675                  NaN                  NaN                  NaN   \n",
       "10026                  NaN                  NaN                  NaN   \n",
       "13997                  NaN                  NaN                  NaN   \n",
       "741                    NaN                  NaN                  NaN   \n",
       "\n",
       "       1998-06-28 00:00:00  1998-06-29 00:00:00  1998-06-30 00:00:00  \n",
       "id                                                                    \n",
       "11770                  NaN                  NaN                  NaN  \n",
       "14675                  NaN                  NaN                  NaN  \n",
       "10026                  NaN                  NaN                  NaN  \n",
       "13997                  NaN                  NaN                  NaN  \n",
       "741                    NaN                  NaN                  NaN  \n",
       "\n",
       "[5 rows x 551 columns]"
      ]
     },
     "execution_count": 8,
     "metadata": {},
     "output_type": "execute_result"
    }
   ],
   "source": [
    "df_train = df_train.rename(index = str, columns={\"Unnamed: 0\": \"id\"}).set_index('id')\n",
    "df_train.head()"
   ]
  },
  {
   "cell_type": "code",
   "execution_count": 9,
   "metadata": {},
   "outputs": [
    {
     "data": {
      "text/html": [
       "<div>\n",
       "<style scoped>\n",
       "    .dataframe tbody tr th:only-of-type {\n",
       "        vertical-align: middle;\n",
       "    }\n",
       "\n",
       "    .dataframe tbody tr th {\n",
       "        vertical-align: top;\n",
       "    }\n",
       "\n",
       "    .dataframe thead th {\n",
       "        text-align: right;\n",
       "    }\n",
       "</style>\n",
       "<table border=\"1\" class=\"dataframe\">\n",
       "  <thead>\n",
       "    <tr style=\"text-align: right;\">\n",
       "      <th>Date</th>\n",
       "      <th>1997-01-01 00:00:00</th>\n",
       "      <th>1997-01-02 00:00:00</th>\n",
       "      <th>1997-01-03 00:00:00</th>\n",
       "      <th>1997-01-04 00:00:00</th>\n",
       "      <th>1997-01-05 00:00:00</th>\n",
       "      <th>1997-01-06 00:00:00</th>\n",
       "      <th>1997-01-07 00:00:00</th>\n",
       "      <th>1997-01-08 00:00:00</th>\n",
       "      <th>1997-01-09 00:00:00</th>\n",
       "      <th>1997-01-10 00:00:00</th>\n",
       "      <th>...</th>\n",
       "      <th>1998-06-21 00:00:00</th>\n",
       "      <th>1998-06-22 00:00:00</th>\n",
       "      <th>1998-06-23 00:00:00</th>\n",
       "      <th>1998-06-24 00:00:00</th>\n",
       "      <th>1998-06-25 00:00:00</th>\n",
       "      <th>1998-06-26 00:00:00</th>\n",
       "      <th>1998-06-27 00:00:00</th>\n",
       "      <th>1998-06-28 00:00:00</th>\n",
       "      <th>1998-06-29 00:00:00</th>\n",
       "      <th>1998-06-30 00:00:00</th>\n",
       "    </tr>\n",
       "    <tr>\n",
       "      <th>id</th>\n",
       "      <th></th>\n",
       "      <th></th>\n",
       "      <th></th>\n",
       "      <th></th>\n",
       "      <th></th>\n",
       "      <th></th>\n",
       "      <th></th>\n",
       "      <th></th>\n",
       "      <th></th>\n",
       "      <th></th>\n",
       "      <th></th>\n",
       "      <th></th>\n",
       "      <th></th>\n",
       "      <th></th>\n",
       "      <th></th>\n",
       "      <th></th>\n",
       "      <th></th>\n",
       "      <th></th>\n",
       "      <th></th>\n",
       "      <th></th>\n",
       "      <th></th>\n",
       "    </tr>\n",
       "  </thead>\n",
       "  <tbody>\n",
       "    <tr>\n",
       "      <th>5780</th>\n",
       "      <td>NaN</td>\n",
       "      <td>NaN</td>\n",
       "      <td>NaN</td>\n",
       "      <td>NaN</td>\n",
       "      <td>NaN</td>\n",
       "      <td>NaN</td>\n",
       "      <td>NaN</td>\n",
       "      <td>NaN</td>\n",
       "      <td>NaN</td>\n",
       "      <td>NaN</td>\n",
       "      <td>...</td>\n",
       "      <td>NaN</td>\n",
       "      <td>NaN</td>\n",
       "      <td>NaN</td>\n",
       "      <td>NaN</td>\n",
       "      <td>NaN</td>\n",
       "      <td>NaN</td>\n",
       "      <td>NaN</td>\n",
       "      <td>NaN</td>\n",
       "      <td>NaN</td>\n",
       "      <td>NaN</td>\n",
       "    </tr>\n",
       "    <tr>\n",
       "      <th>615</th>\n",
       "      <td>NaN</td>\n",
       "      <td>NaN</td>\n",
       "      <td>NaN</td>\n",
       "      <td>NaN</td>\n",
       "      <td>NaN</td>\n",
       "      <td>NaN</td>\n",
       "      <td>NaN</td>\n",
       "      <td>NaN</td>\n",
       "      <td>NaN</td>\n",
       "      <td>64.12</td>\n",
       "      <td>...</td>\n",
       "      <td>NaN</td>\n",
       "      <td>NaN</td>\n",
       "      <td>NaN</td>\n",
       "      <td>NaN</td>\n",
       "      <td>NaN</td>\n",
       "      <td>NaN</td>\n",
       "      <td>NaN</td>\n",
       "      <td>NaN</td>\n",
       "      <td>NaN</td>\n",
       "      <td>NaN</td>\n",
       "    </tr>\n",
       "    <tr>\n",
       "      <th>20315</th>\n",
       "      <td>NaN</td>\n",
       "      <td>NaN</td>\n",
       "      <td>NaN</td>\n",
       "      <td>NaN</td>\n",
       "      <td>NaN</td>\n",
       "      <td>NaN</td>\n",
       "      <td>NaN</td>\n",
       "      <td>NaN</td>\n",
       "      <td>NaN</td>\n",
       "      <td>NaN</td>\n",
       "      <td>...</td>\n",
       "      <td>NaN</td>\n",
       "      <td>NaN</td>\n",
       "      <td>NaN</td>\n",
       "      <td>NaN</td>\n",
       "      <td>NaN</td>\n",
       "      <td>NaN</td>\n",
       "      <td>NaN</td>\n",
       "      <td>NaN</td>\n",
       "      <td>NaN</td>\n",
       "      <td>NaN</td>\n",
       "    </tr>\n",
       "    <tr>\n",
       "      <th>21843</th>\n",
       "      <td>NaN</td>\n",
       "      <td>NaN</td>\n",
       "      <td>NaN</td>\n",
       "      <td>NaN</td>\n",
       "      <td>NaN</td>\n",
       "      <td>NaN</td>\n",
       "      <td>NaN</td>\n",
       "      <td>NaN</td>\n",
       "      <td>NaN</td>\n",
       "      <td>NaN</td>\n",
       "      <td>...</td>\n",
       "      <td>NaN</td>\n",
       "      <td>NaN</td>\n",
       "      <td>NaN</td>\n",
       "      <td>NaN</td>\n",
       "      <td>NaN</td>\n",
       "      <td>NaN</td>\n",
       "      <td>NaN</td>\n",
       "      <td>NaN</td>\n",
       "      <td>NaN</td>\n",
       "      <td>NaN</td>\n",
       "    </tr>\n",
       "    <tr>\n",
       "      <th>9982</th>\n",
       "      <td>NaN</td>\n",
       "      <td>NaN</td>\n",
       "      <td>NaN</td>\n",
       "      <td>NaN</td>\n",
       "      <td>NaN</td>\n",
       "      <td>NaN</td>\n",
       "      <td>NaN</td>\n",
       "      <td>NaN</td>\n",
       "      <td>NaN</td>\n",
       "      <td>NaN</td>\n",
       "      <td>...</td>\n",
       "      <td>NaN</td>\n",
       "      <td>NaN</td>\n",
       "      <td>NaN</td>\n",
       "      <td>NaN</td>\n",
       "      <td>NaN</td>\n",
       "      <td>NaN</td>\n",
       "      <td>NaN</td>\n",
       "      <td>NaN</td>\n",
       "      <td>NaN</td>\n",
       "      <td>NaN</td>\n",
       "    </tr>\n",
       "  </tbody>\n",
       "</table>\n",
       "<p>5 rows × 546 columns</p>\n",
       "</div>"
      ],
      "text/plain": [
       "Date   1997-01-01  1997-01-02  1997-01-03  1997-01-04  1997-01-05  1997-01-06  \\\n",
       "id                                                                              \n",
       "5780          NaN         NaN         NaN         NaN         NaN         NaN   \n",
       "615           NaN         NaN         NaN         NaN         NaN         NaN   \n",
       "20315         NaN         NaN         NaN         NaN         NaN         NaN   \n",
       "21843         NaN         NaN         NaN         NaN         NaN         NaN   \n",
       "9982          NaN         NaN         NaN         NaN         NaN         NaN   \n",
       "\n",
       "Date   1997-01-07  1997-01-08  1997-01-09  1997-01-10  ...  1998-06-21  \\\n",
       "id                                                     ...               \n",
       "5780          NaN         NaN         NaN         NaN  ...         NaN   \n",
       "615           NaN         NaN         NaN       64.12  ...         NaN   \n",
       "20315         NaN         NaN         NaN         NaN  ...         NaN   \n",
       "21843         NaN         NaN         NaN         NaN  ...         NaN   \n",
       "9982          NaN         NaN         NaN         NaN  ...         NaN   \n",
       "\n",
       "Date   1998-06-22  1998-06-23  1998-06-24  1998-06-25  1998-06-26  1998-06-27  \\\n",
       "id                                                                              \n",
       "5780          NaN         NaN         NaN         NaN         NaN         NaN   \n",
       "615           NaN         NaN         NaN         NaN         NaN         NaN   \n",
       "20315         NaN         NaN         NaN         NaN         NaN         NaN   \n",
       "21843         NaN         NaN         NaN         NaN         NaN         NaN   \n",
       "9982          NaN         NaN         NaN         NaN         NaN         NaN   \n",
       "\n",
       "Date   1998-06-28  1998-06-29  1998-06-30  \n",
       "id                                         \n",
       "5780          NaN         NaN         NaN  \n",
       "615           NaN         NaN         NaN  \n",
       "20315         NaN         NaN         NaN  \n",
       "21843         NaN         NaN         NaN  \n",
       "9982          NaN         NaN         NaN  \n",
       "\n",
       "[5 rows x 546 columns]"
      ]
     },
     "execution_count": 9,
     "metadata": {},
     "output_type": "execute_result"
    }
   ],
   "source": [
    "# for this we assign clusters\n",
    "df_test= df.drop(df_train.index.values,axis=0).sample(batch_size_for_classification)\n",
    "df_test.head()"
   ]
  },
  {
   "cell_type": "markdown",
   "metadata": {},
   "source": [
    "#### NAN -> 0"
   ]
  },
  {
   "cell_type": "code",
   "execution_count": 10,
   "metadata": {
    "scrolled": true
   },
   "outputs": [
    {
     "data": {
      "text/html": [
       "<div>\n",
       "<style scoped>\n",
       "    .dataframe tbody tr th:only-of-type {\n",
       "        vertical-align: middle;\n",
       "    }\n",
       "\n",
       "    .dataframe tbody tr th {\n",
       "        vertical-align: top;\n",
       "    }\n",
       "\n",
       "    .dataframe thead th {\n",
       "        text-align: right;\n",
       "    }\n",
       "</style>\n",
       "<table border=\"1\" class=\"dataframe\">\n",
       "  <thead>\n",
       "    <tr style=\"text-align: right;\">\n",
       "      <th></th>\n",
       "      <th>clusters_r</th>\n",
       "      <th>clusters_m</th>\n",
       "      <th>clusters_f</th>\n",
       "      <th>GMM_Voting</th>\n",
       "      <th>GMM_Pair</th>\n",
       "      <th>1997-01-01 00:00:00</th>\n",
       "      <th>1997-01-02 00:00:00</th>\n",
       "      <th>1997-01-03 00:00:00</th>\n",
       "      <th>1997-01-04 00:00:00</th>\n",
       "      <th>1997-01-05 00:00:00</th>\n",
       "      <th>...</th>\n",
       "      <th>1998-06-21 00:00:00</th>\n",
       "      <th>1998-06-22 00:00:00</th>\n",
       "      <th>1998-06-23 00:00:00</th>\n",
       "      <th>1998-06-24 00:00:00</th>\n",
       "      <th>1998-06-25 00:00:00</th>\n",
       "      <th>1998-06-26 00:00:00</th>\n",
       "      <th>1998-06-27 00:00:00</th>\n",
       "      <th>1998-06-28 00:00:00</th>\n",
       "      <th>1998-06-29 00:00:00</th>\n",
       "      <th>1998-06-30 00:00:00</th>\n",
       "    </tr>\n",
       "    <tr>\n",
       "      <th>id</th>\n",
       "      <th></th>\n",
       "      <th></th>\n",
       "      <th></th>\n",
       "      <th></th>\n",
       "      <th></th>\n",
       "      <th></th>\n",
       "      <th></th>\n",
       "      <th></th>\n",
       "      <th></th>\n",
       "      <th></th>\n",
       "      <th></th>\n",
       "      <th></th>\n",
       "      <th></th>\n",
       "      <th></th>\n",
       "      <th></th>\n",
       "      <th></th>\n",
       "      <th></th>\n",
       "      <th></th>\n",
       "      <th></th>\n",
       "      <th></th>\n",
       "      <th></th>\n",
       "    </tr>\n",
       "  </thead>\n",
       "  <tbody>\n",
       "    <tr>\n",
       "      <th>4162</th>\n",
       "      <td>0</td>\n",
       "      <td>0</td>\n",
       "      <td>0</td>\n",
       "      <td>2</td>\n",
       "      <td>6</td>\n",
       "      <td>0.0</td>\n",
       "      <td>0.0</td>\n",
       "      <td>0.0</td>\n",
       "      <td>0.0</td>\n",
       "      <td>0.0</td>\n",
       "      <td>...</td>\n",
       "      <td>0.0</td>\n",
       "      <td>0.0</td>\n",
       "      <td>0.0</td>\n",
       "      <td>0.0</td>\n",
       "      <td>0.0</td>\n",
       "      <td>0.0</td>\n",
       "      <td>0.0</td>\n",
       "      <td>0.0</td>\n",
       "      <td>0.0</td>\n",
       "      <td>0.0</td>\n",
       "    </tr>\n",
       "    <tr>\n",
       "      <th>3789</th>\n",
       "      <td>0</td>\n",
       "      <td>0</td>\n",
       "      <td>12</td>\n",
       "      <td>2</td>\n",
       "      <td>4</td>\n",
       "      <td>0.0</td>\n",
       "      <td>0.0</td>\n",
       "      <td>0.0</td>\n",
       "      <td>0.0</td>\n",
       "      <td>0.0</td>\n",
       "      <td>...</td>\n",
       "      <td>0.0</td>\n",
       "      <td>0.0</td>\n",
       "      <td>0.0</td>\n",
       "      <td>0.0</td>\n",
       "      <td>0.0</td>\n",
       "      <td>0.0</td>\n",
       "      <td>0.0</td>\n",
       "      <td>0.0</td>\n",
       "      <td>0.0</td>\n",
       "      <td>0.0</td>\n",
       "    </tr>\n",
       "  </tbody>\n",
       "</table>\n",
       "<p>2 rows × 551 columns</p>\n",
       "</div>"
      ],
      "text/plain": [
       "      clusters_r  clusters_m  clusters_f  GMM_Voting  GMM_Pair  \\\n",
       "id                                                               \n",
       "4162           0           0           0           2         6   \n",
       "3789           0           0          12           2         4   \n",
       "\n",
       "      1997-01-01 00:00:00  1997-01-02 00:00:00  1997-01-03 00:00:00  \\\n",
       "id                                                                    \n",
       "4162                  0.0                  0.0                  0.0   \n",
       "3789                  0.0                  0.0                  0.0   \n",
       "\n",
       "      1997-01-04 00:00:00  1997-01-05 00:00:00  ...  1998-06-21 00:00:00  \\\n",
       "id                                              ...                        \n",
       "4162                  0.0                  0.0  ...                  0.0   \n",
       "3789                  0.0                  0.0  ...                  0.0   \n",
       "\n",
       "      1998-06-22 00:00:00  1998-06-23 00:00:00  1998-06-24 00:00:00  \\\n",
       "id                                                                    \n",
       "4162                  0.0                  0.0                  0.0   \n",
       "3789                  0.0                  0.0                  0.0   \n",
       "\n",
       "      1998-06-25 00:00:00  1998-06-26 00:00:00  1998-06-27 00:00:00  \\\n",
       "id                                                                    \n",
       "4162                  0.0                  0.0                  0.0   \n",
       "3789                  0.0                  0.0                  0.0   \n",
       "\n",
       "      1998-06-28 00:00:00  1998-06-29 00:00:00  1998-06-30 00:00:00  \n",
       "id                                                                   \n",
       "4162                  0.0                  0.0                  0.0  \n",
       "3789                  0.0                  0.0                  0.0  \n",
       "\n",
       "[2 rows x 551 columns]"
      ]
     },
     "execution_count": 10,
     "metadata": {},
     "output_type": "execute_result"
    }
   ],
   "source": [
    "df_train = df_train.fillna(0)\n",
    "df_test = df_test.fillna(0)\n",
    "df_train.sample(2)"
   ]
  },
  {
   "cell_type": "markdown",
   "metadata": {},
   "source": [
    "# 1. Prediction with given clusters on train data (2000 rows)"
   ]
  },
  {
   "cell_type": "code",
   "execution_count": 11,
   "metadata": {},
   "outputs": [],
   "source": [
    "train_targets, test_targets= train_test_split(df_train.transpose(), test_size=.127, shuffle=False)  #.10 also has to be changed below(classifer), TODO  add var\n",
    "train_targets = train_targets.transpose()\n",
    "test_targets = test_targets.transpose()"
   ]
  },
  {
   "cell_type": "code",
   "execution_count": 12,
   "metadata": {},
   "outputs": [
    {
     "data": {
      "text/plain": [
       "70"
      ]
     },
     "execution_count": 12,
     "metadata": {},
     "output_type": "execute_result"
    }
   ],
   "source": [
    "# # columsn to predict\n",
    "test_targets.shape[1]"
   ]
  },
  {
   "cell_type": "code",
   "execution_count": 13,
   "metadata": {},
   "outputs": [],
   "source": [
    "# output file\n",
    "result = pd.DataFrame()"
   ]
  },
  {
   "cell_type": "markdown",
   "metadata": {},
   "source": [
    "### 1.0.1 GridSearch function for TMRF"
   ]
  },
  {
   "cell_type": "code",
   "execution_count": 14,
   "metadata": {},
   "outputs": [],
   "source": [
    "base = TRMFRegressor(n_components=1,\n",
    "                 n_order=0,\n",
    "                 fit_regression=False,\n",
    "                 fit_intercept=True,\n",
    "                 nonnegative_factors=True,\n",
    "                 n_max_mf_iter=5)\n",
    "\n",
    "\n",
    "def gridsearch_trmf(X,test_targets):\n",
    "    grid = ParameterGrid(dict(\n",
    "    n_components=np.r_[1:2],#17],\n",
    "    n_order=np.r_[1:2],#17],\n",
    "    C_Z=np.logspace(-2, 1,num=1),#,num=4),\n",
    "    C_F=np.logspace(-2, 1,num=1),#,num=4),\n",
    "    C_phi=np.logspace(-2, 1,num=1),#,num=4),\n",
    "    eta_Z=np.linspace(0.05, 0.95,num=1)#,num=10),\n",
    "    ))\n",
    "    \n",
    "    transformer = StandardScaler(with_mean=True, with_std=True)\n",
    "    X = transformer.fit_transform(X)\n",
    "\n",
    "    \n",
    "    # run the experiment in parallel\n",
    "    par_ = Parallel(n_jobs=-1, verbose=0)\n",
    "    results = par_(delayed(helper)(par, X, test_targets.transpose(),transformer) for par in grid)\n",
    "    \n",
    "    keys = ['n_order', 'n_components', 'eta_Z', 'C_phi', 'C_Z', 'C_F']\n",
    "    data = dict((tuple(par[k] for k in keys), rmse,) for par, rmse in results)\n",
    "    sr = pd.Series(data, name=\"rmse\").sort_index().rename_axis(keys)\n",
    "    cube = sr.values.reshape(*[len(grid.param_grid[0][k]) for k in keys])\n",
    "    stepping = [grid.param_grid[0][k] for k in keys]\n",
    "    # find the flat index of the smallest value\n",
    "    flat_index = np.argmin(cube)\n",
    "    # ... and unravel into into a multidimensional index\n",
    "    index = np.unravel_index(flat_index, cube.shape)\n",
    "    # collect the best paramaters from the grid\n",
    "    best_ = {k: grid.param_grid[0][k][i] for k, i in zip(keys, index)}\n",
    "    return best_\n",
    "\n",
    "transformer = StandardScaler(with_mean=True, with_std=True)\n",
    "\n",
    "def helper(par, train, test,  transformer,base=base):\n",
    "    basee = TRMFRegressor(n_components=1,\n",
    "                     n_order=0,\n",
    "                     fit_regression=False,\n",
    "                     fit_intercept=True,\n",
    "                     nonnegative_factors=True,\n",
    "                     n_max_mf_iter=5)\n",
    "    \n",
    "    # clone, set parameters and fit\n",
    "    trmf = clone(basee).set_params(**par).fit(train)\n",
    "    \n",
    "    # predict and return\n",
    "    pred = transformer.inverse_transform(\n",
    "        trmf.predict(n_ahead=len(test)))\n",
    "\n",
    "    return par, mean_squared_error(test, pred)"
   ]
  },
  {
   "cell_type": "markdown",
   "metadata": {},
   "source": [
    "## 1.0.2 TMRF with clusterwise regression"
   ]
  },
  {
   "cell_type": "code",
   "execution_count": 15,
   "metadata": {},
   "outputs": [],
   "source": [
    "def clusterwise_regression(X,Y,\n",
    "                           cluster_column ='supercluster',\n",
    "                           columns_wo_TS = ['clusters_r','clusters_m','clusters_f','supercluster'],\n",
    "                           gridsearch_limit = 1):\n",
    "    \"\"\"\n",
    "    Runs clusterwise regression\n",
    "    Parameters\n",
    "    ----------\n",
    "    X : DataFrame with train data (rows: id; columns: clusters + TS)\n",
    "    Y : DataFrame with true_values (rows: id; columns: clusters + TS) (to compare gggpredictions)\n",
    "    cluster_column : column with given clusters\n",
    "    columns_wo_TS  : columns in DataFrames not regarded as TimeSeries\n",
    "    gridsearch_limit : # of times to run GridSeach for each cluster (>=1)\n",
    "    ---------\n",
    "    Return :\n",
    "    clusters : Dictionary with trained models for each cluster\n",
    "    old_cluster_for_user : Dictionary with optimal cluster for each user (after moving)\n",
    "    cluster_parameters_for_gridsearch : Dictionary with optimal parameters for each cluster model\n",
    "    \"\"\"\n",
    "    train_targets = X.copy()\n",
    "    test_targets = Y.copy()\n",
    "    n_ahead = test_targets.shape[1]\n",
    "    clusters = {}\n",
    "    # save cluster info for clusterwise regression\n",
    "    cluster_error = {}\n",
    "    cluster_has_changed = {}\n",
    "    cluster_data_X = {}\n",
    "    counter_for_gridsearch = 0\n",
    "    old_clusters ={}\n",
    "    cluster_data_true_values = {}\n",
    "    cluster_predicted = {}\n",
    "    score_for_user = {}\n",
    "    cluster_parameters_for_gridsearch = {}\n",
    "    previous_total_error = math.inf\n",
    "    limit = 3\n",
    "    for i in list(range(0,limit+1)): # Some limit on iterations just in case\n",
    "        # Assign user to clusters\n",
    "        cluster_for_user = {}\n",
    "        cluster_for_user  = train_targets[cluster_column].to_dict()\n",
    "        for cluster_number in train_targets[cluster_column].unique():\n",
    "            # Save training data for this cluster\n",
    "            cluster_data_X[cluster_number] = train_targets.loc[train_targets[cluster_column] == cluster_number].drop(columns =columns_wo_TS)\n",
    "            cluster_data_true_values[cluster_number] = test_targets.loc[ cluster_data_X[cluster_number].index]\n",
    "            # Scaling (Not minmax because of it wasn't used in trmf github)\n",
    "            transformer = StandardScaler(with_mean=True, with_std=True)\n",
    "            cluster_data_X[cluster_number] = cluster_data_X[cluster_number].transpose()\n",
    "            cluster_data_X[cluster_number] = transformer.fit_transform(cluster_data_X[cluster_number])\n",
    "            #GridSearchCV for TRMF\n",
    "            # If initial initialization or cluster has changed\n",
    "            if (cluster_number not in cluster_has_changed) or (cluster_has_changed[cluster_number]== True):\n",
    "                if (i<gridsearch_limit):\n",
    "                    # add prev_cluster_paraeters\n",
    "                    cluster_parameters_for_gridsearch[cluster_number] = gridsearch_trmf(cluster_data_X[cluster_number],cluster_data_true_values[cluster_number])\n",
    "                clusters[cluster_number ]= TRMFRegressor(**cluster_parameters_for_gridsearch[cluster_number], eta_F=0., adj=None, C_B=0., fit_regression=False,\n",
    "                                 fit_intercept=True, nonnegative_factors=True, n_max_mf_iter=5,\n",
    "                                 z_step_kind=\"tron\")\n",
    "                clusters[cluster_number].fit(cluster_data_X[cluster_number])\n",
    "\n",
    "            # As advised by Ivan\n",
    "            fitted_ = np.dot(clusters[cluster_number].factors_,clusters[cluster_number].loadings_)+clusters[cluster_number].intercept_\n",
    "            cluster_predicted[cluster_number] = transformer.inverse_transform( clusters[cluster_number].predict(fitted_,n_ahead=n_ahead))\n",
    "            # Save prediction\n",
    "            cluster_predicted[cluster_number] = pd.DataFrame(cluster_predicted[cluster_number]).transpose()\n",
    "            cluster_predicted[cluster_number].columns  = cluster_data_true_values[cluster_number].columns \n",
    "            cluster_predicted[cluster_number].index = cluster_data_true_values[cluster_number].index\n",
    "            #save cluster score\n",
    "            cluster_error[cluster_number] = math.sqrt(mean_squared_error(cluster_data_true_values[cluster_number],cluster_predicted[cluster_number]))\n",
    "        print(\"Error per cluster: \",cluster_error)\n",
    "        # flatten true values\n",
    "        all_true_values  = reduce(lambda x,y: list(x)+list(y), ([x.ravel() for x in [x.values for x in list(cluster_data_true_values.values())  ]])   )\n",
    "        # flatten prediction \n",
    "        all_predictions  = reduce(lambda x,y: list(x)+list(y), ([x.ravel() for x in [x.values for x in list(cluster_predicted.values())  ]])   )\n",
    "        total_error = math.sqrt(mean_squared_error(all_predictions,all_true_values))\n",
    "        print(\"New error: \",total_error)\n",
    "        # If new score is worse - load last cluster and run final prediction. \n",
    "        if (total_error > previous_total_error):\n",
    "            train_targets[cluster_column] = list(old_cluster_for_user.values())\n",
    "            print('Error has increased. Backtrack to previous iteration')\n",
    "            clusters = old_clusters.copy()\n",
    "            return clusters,old_cluster_for_user,cluster_parameters_for_gridsearch\n",
    "        else:\n",
    "            previous_total_error = total_error\n",
    "        if (i>=limit):# return prev iteration\n",
    "            return old_clusters.copy(),old_cluster_for_user,cluster_parameters_for_gridsearch\n",
    "        # Calculate score per user\n",
    "        for cluster_number in train_targets[cluster_column].unique():\n",
    "            for index, row in cluster_data_true_values[cluster_number].iterrows():\n",
    "                score_for_user[index] = math.sqrt(mean_squared_error( row, cluster_predicted[cluster_number].loc[index,:]))\n",
    "        # Assume that we haven't change any cluster\n",
    "        for x in cluster_has_changed:\n",
    "            cluster_has_changed[x]=False        \n",
    "        cluster_lowest_mae = min(cluster_error, key=cluster_error.get)\n",
    "        old_clusters = {}\n",
    "        old_cluster_for_user = {}\n",
    "        ii =0\n",
    "        #Take observation x from cluster a, where error_x > error_a\n",
    "        for cluster_number in train_targets[cluster_column].unique():\n",
    "            # All ids in this cluster are already in cluster with lowest possible mae\n",
    "            if (cluster_number == cluster_lowest_mae):\n",
    "                continue\n",
    "            for index, row in cluster_data_true_values[cluster_number].iterrows():    \n",
    "            # User is in current cluster -> we can reassign him\n",
    "                if (cluster_number  == cluster_for_user[index]):\n",
    "                    if (score_for_user[index] > cluster_error[cluster_number]):\n",
    "                        ii+=1#counter\n",
    "                        # Have to refit changed clusters             \n",
    "                        cluster_has_changed[cluster_number] = True\n",
    "                        cluster_has_changed[cluster_lowest_mae] = True\n",
    "                        # Move observation x to the cluster with the lowest training erro\n",
    "                        train_targets.loc[index,cluster_column] = cluster_lowest_mae   \n",
    "        old_clusters = clusters.copy() # we have to return to old snapshot, if error didn't improve\n",
    "        old_cluster_for_user = cluster_for_user.copy() # as well as save last assigned clusters                  \n",
    "        print('Moved ', ii, ' users to another cluster \\n')   \n",
    "   # return old_clusters,old_cluster_for_user,cluster_parameters_for_gridsearch   "
   ]
  },
  {
   "cell_type": "markdown",
   "metadata": {},
   "source": [
    "### 1.0.3 TRMF Prediction Function"
   ]
  },
  {
   "cell_type": "code",
   "execution_count": 16,
   "metadata": {},
   "outputs": [],
   "source": [
    "def final_prediction_after_clusterwise_reg(\n",
    "                           X,Y,\n",
    "                           step = 'unstated',\n",
    "                           clusters = None,\n",
    "                           clusters_parameters = None,\n",
    "                           new_clusters_for_users=None,\n",
    "                           cluster_column ='supercluster',\n",
    "                           columns_wo_TS = ['clusters_r','clusters_m','clusters_f','supercluster'],\n",
    "                           gridsearch_use = False):\n",
    "    \"\"\"\n",
    "    Performs final prediction and generates DataFrame for Alibaba Data\n",
    "    Parameters\n",
    "    ----------\n",
    "    X : DataFrame with train data (rows: id; columns: clusters + TS)\n",
    "    Y : DataFrame with true_values (rows: id; columns: clusters + TS) (to compare predictions)\n",
    "    step : 'before_classifier' or 'after_classifier', for report generation\n",
    "    clusters: dictionary with models for each cluster. If None, then refit\n",
    "    clusters_parameters: dictionary with parameters for each cluster model\n",
    "    new_clusters_for_users: dictionary with clusters for each user. \n",
    "    cluster_column : column with given clusters\n",
    "    columns_wo_TS  : columns in DataFrames not regarded as TimeSeries\n",
    "    gridsearch_use : Run gridSeach (True) or use clusters_parameters (False)?\n",
    "    ---------\n",
    "    Return :\n",
    "    result : DataFrame with columns\n",
    "    cluster, user id, true target, prediction, rmse, model, method (all data, clustered), step (all data, before classifier, after classifier)\n",
    "    \"\"\"\n",
    "    result = pd.DataFrame()\n",
    "    train_targets = X.copy()\n",
    "    test_targets = Y.copy()\n",
    "    n_ahead = test_targets.shape[1]\n",
    "    if (new_clusters_for_users is not None):\n",
    "        # we assume that the order in DataFrame is the same as in clusterwise regression\n",
    "        train_targets[cluster_column]=list(cluster_per_user.values()) \n",
    "    cluster_data_X = {}\n",
    "    cluster_data_true_values = {}\n",
    "    if (clusters_parameters == None or gridsearch_use==True):\n",
    "        clusters_parameters = {}\n",
    "    if (clusters == None or clusters_parameters ==None):\n",
    "        clusters = {}\n",
    "    for cluster_number in train_targets[cluster_column].unique():\n",
    "        cluster_data_X[cluster_number] = train_targets.loc[train_targets[cluster_column] == cluster_number].drop(columns =columns_wo_TS)\n",
    "        cluster_data_true_values[cluster_number] = test_targets.loc[ cluster_data_X[cluster_number].index]\n",
    "        # Scaling (Not minmax because of it wasn't used in trmf github)\n",
    "        transformer = StandardScaler(with_mean=True, with_std=True)\n",
    "        cluster_data_X[cluster_number] = cluster_data_X[cluster_number].transpose()\n",
    "        cluster_data_X[cluster_number] = transformer.fit_transform(cluster_data_X[cluster_number])\n",
    "        if (cluster_number not in clusters_parameters or gridsearch_use==True):\n",
    "            clusters_parameters[cluster_number] = gridsearch_trmf(cluster_data_X[cluster_number],cluster_data_true_values[cluster_number])\n",
    "        if (cluster_number not in clusters or ( cluster_number not in  clusters_parameters) or gridsearch_use==True):\n",
    "            clusters[cluster_number ]= TRMFRegressor(**clusters_parameters[cluster_number], eta_F=0., adj=None, C_B=0., fit_regression=False,\n",
    "                         fit_intercept=True, nonnegative_factors=True, n_max_mf_iter=5,\n",
    "                         z_step_kind=\"tron\")\n",
    "            # If you feed clusters from clusterwise, you don't need to refit them\n",
    "            clusters[cluster_number ].fit(cluster_data_X[cluster_number])\n",
    "        fitted_ = np.dot(clusters[cluster_number].factors_,clusters[cluster_number].loadings_)+clusters[cluster_number].intercept_\n",
    "        predicted= transformer.inverse_transform( clusters[cluster_number].predict(fitted_,n_ahead=n_ahead))\n",
    "        df_prediction = pd.DataFrame(predicted).transpose()\n",
    "        df_prediction.columns  = cluster_data_true_values[cluster_number].columns \n",
    "        df_prediction.index = cluster_data_true_values[cluster_number].index\n",
    "        # Transform prediction for output\n",
    "        #MODEL\n",
    "        df_prediction.insert(0,'RMSE',math.sqrt(mean_squared_error(cluster_data_true_values[cluster_number],df_prediction)))\n",
    "        df_prediction.insert(0,'model','trmf')\n",
    "        #METHOD\n",
    "        df_prediction.insert(0,'method','clustered_clusterwise')\n",
    "        #STEP\n",
    "        df_prediction.insert(0,'step',step)\n",
    "        # CLUSTER\n",
    "        df_prediction.insert(0,'cluster_id',str(cluster_column)+'_'+str(cluster_number))\n",
    "        #Wide to logn\n",
    "        df_prediction = df_prediction.reset_index().melt(id_vars =['id','cluster_id','step','method','model','RMSE']).rename(index = str, columns={'variable':'date','value':'predicted_value'})\n",
    "        true_values=cluster_data_true_values[cluster_number].reset_index().melt(id_vars=['id']).rename(index = str, columns={'variable':'date','value':'true_value'})\n",
    "        result = result.append(df_prediction.merge(true_values,left_on = ['id','date'],right_on=['id','date']))\n",
    "    return result"
   ]
  },
  {
   "cell_type": "markdown",
   "metadata": {},
   "source": [
    "### 1.0.4 Theta Prediction function"
   ]
  },
  {
   "cell_type": "code",
   "execution_count": 17,
   "metadata": {},
   "outputs": [],
   "source": [
    "def theta_prediction(X,Y,step = 'unstated',\n",
    "           cluster_column ='supercluster',\n",
    "           columns_wo_TS = ['clusters_r','clusters_m','clusters_f','supercluster']):\n",
    "    \"\"\"\n",
    "    Performs theta prediction\n",
    "    Return :\n",
    "    result : DataFrame with columns\n",
    "    cluster, user id, true target, prediction, rmse, model, method (all data, clustered), step (all data, before classifier, after classifier)\n",
    "    \"\"\"\n",
    "    train_targets = X.copy()\n",
    "    test_targets = Y.copy()\n",
    "    base = importr('forecast')\n",
    "    ress = pd.DataFrame()\n",
    "    for cluster_number in train_targets[cluster_column].unique():\n",
    "        X = train_targets.loc[train_targets[cluster_column] == cluster_number].drop(columns =columns_wo_TS)\n",
    "        true_values = test_targets.loc[ X.index]\n",
    "        # Scaling\n",
    "        scl =MinMaxScaler() #StandardScaler(with_mean=True, with_std=True)\n",
    "        X = scl.fit_transform(X)\n",
    "        #THETA\n",
    "        df_prediction = pd.DataFrame(columns = test_targets.columns)\n",
    "        train_targets_scaled = pd.DataFrame(X)\n",
    "        train_targets_scaled.index = true_values.index\n",
    "        for index, row in train_targets_scaled.iterrows():\n",
    "            res = robjects.FloatVector(row.drop(columns = ['uid']))#to id\n",
    "            r_prediction = base.thetaf(res,70)[1]\n",
    "            df_prediction.loc[index] = r_prediction\n",
    "        #Transform prediction for output \n",
    "        #MODEL\n",
    "        df_prediction.insert(0,'RMSE',math.sqrt(mean_squared_error(true_values,df_prediction)))\n",
    "        df_prediction.insert(0,'model','theta')\n",
    "        #METHOD\n",
    "        df_prediction.insert(0,'method','clustered')\n",
    "        #STEP\n",
    "        df_prediction.insert(0,'step',step)\n",
    "        # CLUSTER\n",
    "        df_prediction.insert(0,'cluster_id',str(cluster_column)+'_'+str(cluster_number))\n",
    "        #Wide to logn\n",
    "        df_prediction = df_prediction.reset_index().melt(id_vars =['index','cluster_id','step','method','model','RMSE']).rename(index = str, columns={'variable':'date','value':'predicted_value','index':'id'})\n",
    "        true_values=true_values.reset_index().melt(id_vars=['id']).rename(index = str, columns={'variable':'date','value':'true_value'})\n",
    "        ress = ress.append(df_prediction.merge(true_values,left_on = ['id','date'],right_on=['id','date']))\n",
    "    return ress"
   ]
  },
  {
   "cell_type": "markdown",
   "metadata": {},
   "source": [
    "## 1.1.1 TMRF with clusterwise prediction for GMM_Voting"
   ]
  },
  {
   "cell_type": "code",
   "execution_count": 18,
   "metadata": {},
   "outputs": [
    {
     "name": "stdout",
     "output_type": "stream",
     "text": [
      "Error per cluster:  {2.0: 0.6660010049378612, 5.0: 4.260942639521057, 0.0: 5.840328024665831, 3.0: 3.066647553627067, 8.0: 4.738625460439605, 1.0: 2.3047213634365042, 6.0: 2.8415074601268877, 9.0: 6.700348842347881}\n",
      "New error:  2.761148569996368\n",
      "Moved  100  users to another cluster \n",
      "\n",
      "Error per cluster:  {2.0: 3.277562534856147, 5.0: 1.414636231271752, 0.0: 2.1080119151382246, 3.0: 0.6965830880726239, 8.0: 0.7902808148989326, 1.0: 0.5309120948234258, 6.0: 1.1339762136566027, 9.0: 2.552892299560984}\n",
      "New error:  2.7611486107020196\n",
      "Error has increased. Backtrack to previous iteration\n",
      "CPU times: user 2min 14s, sys: 16min 18s, total: 18min 32s\n",
      "Wall time: 1min 39s\n"
     ]
    }
   ],
   "source": [
    "%%time\n",
    "clusters_model, cluster_per_user, clusters_parameters = clusterwise_regression(train_targets,\n",
    "                                                                               test_targets,\n",
    "                                                                               cluster_column = 'GMM_Voting',\n",
    "                                                                               columns_wo_TS = ['clusters_r','clusters_m','clusters_f','GMM_Voting','GMM_Pair'],\n",
    "                                                                               gridsearch_limit = 1)"
   ]
  },
  {
   "cell_type": "code",
   "execution_count": 19,
   "metadata": {
    "scrolled": true
   },
   "outputs": [
    {
     "name": "stdout",
     "output_type": "stream",
     "text": [
      "CPU times: user 54.9 s, sys: 5min 3s, total: 5min 58s\n",
      "Wall time: 2min 18s\n"
     ]
    }
   ],
   "source": [
    "%%time\n",
    "res = final_prediction_after_clusterwise_reg(train_targets,test_targets,step ='before_classifier',\n",
    "                                      clusters = clusters_model,\n",
    "                                      clusters_parameters = clusters_parameters,\n",
    "                                      new_clusters_for_users = cluster_per_user,\n",
    "                                      cluster_column = 'GMM_Voting',\n",
    "                                      gridsearch_use = True, \n",
    "                                      columns_wo_TS = ['clusters_r','clusters_m','clusters_f','GMM_Voting','GMM_Pair'])"
   ]
  },
  {
   "cell_type": "code",
   "execution_count": 20,
   "metadata": {},
   "outputs": [
    {
     "data": {
      "text/html": [
       "<div>\n",
       "<style scoped>\n",
       "    .dataframe tbody tr th:only-of-type {\n",
       "        vertical-align: middle;\n",
       "    }\n",
       "\n",
       "    .dataframe tbody tr th {\n",
       "        vertical-align: top;\n",
       "    }\n",
       "\n",
       "    .dataframe thead th {\n",
       "        text-align: right;\n",
       "    }\n",
       "</style>\n",
       "<table border=\"1\" class=\"dataframe\">\n",
       "  <thead>\n",
       "    <tr style=\"text-align: right;\">\n",
       "      <th></th>\n",
       "      <th>id</th>\n",
       "      <th>cluster_id</th>\n",
       "      <th>step</th>\n",
       "      <th>method</th>\n",
       "      <th>model</th>\n",
       "      <th>RMSE</th>\n",
       "      <th>date</th>\n",
       "      <th>predicted_value</th>\n",
       "      <th>true_value</th>\n",
       "    </tr>\n",
       "  </thead>\n",
       "  <tbody>\n",
       "    <tr>\n",
       "      <th>65043</th>\n",
       "      <td>2071</td>\n",
       "      <td>GMM_Voting_2.0</td>\n",
       "      <td>before_classifier</td>\n",
       "      <td>clustered_clusterwise</td>\n",
       "      <td>trmf</td>\n",
       "      <td>0.666001</td>\n",
       "      <td>1998-06-14</td>\n",
       "      <td>0.018424</td>\n",
       "      <td>0.0</td>\n",
       "    </tr>\n",
       "    <tr>\n",
       "      <th>10844</th>\n",
       "      <td>2335</td>\n",
       "      <td>GMM_Voting_2.0</td>\n",
       "      <td>before_classifier</td>\n",
       "      <td>clustered_clusterwise</td>\n",
       "      <td>trmf</td>\n",
       "      <td>0.666001</td>\n",
       "      <td>1998-04-30</td>\n",
       "      <td>0.062815</td>\n",
       "      <td>0.0</td>\n",
       "    </tr>\n",
       "  </tbody>\n",
       "</table>\n",
       "</div>"
      ],
      "text/plain": [
       "         id      cluster_id               step                 method model  \\\n",
       "65043  2071  GMM_Voting_2.0  before_classifier  clustered_clusterwise  trmf   \n",
       "10844  2335  GMM_Voting_2.0  before_classifier  clustered_clusterwise  trmf   \n",
       "\n",
       "           RMSE       date  predicted_value  true_value  \n",
       "65043  0.666001 1998-06-14         0.018424         0.0  \n",
       "10844  0.666001 1998-04-30         0.062815         0.0  "
      ]
     },
     "execution_count": 20,
     "metadata": {},
     "output_type": "execute_result"
    }
   ],
   "source": [
    "res.sample(2)"
   ]
  },
  {
   "cell_type": "code",
   "execution_count": 21,
   "metadata": {},
   "outputs": [],
   "source": [
    "result = result.append(res)"
   ]
  },
  {
   "cell_type": "markdown",
   "metadata": {},
   "source": [
    "## 1.1.2 TMRF with clusterwise prediction for GMM_Pair"
   ]
  },
  {
   "cell_type": "code",
   "execution_count": 22,
   "metadata": {
    "scrolled": true
   },
   "outputs": [
    {
     "name": "stdout",
     "output_type": "stream",
     "text": [
      "Error per cluster:  {6.0: 0.5693927386985257, 5.0: 4.69003506533311, 3.0: 5.182696573576956, 1.0: 0.7239579630663387, 0.0: 0.57212035839337, 11.0: 0.2044735745707937, 4.0: 1.371412995240809, 9.0: 4.223893542455661, 8.0: 1.062677797047635, 10.0: 0.09169324993639597, 7.0: 0.12577274382681333, 2.0: 0.17667844678434422}\n",
      "New error:  2.761148611093929\n",
      "Moved  142  users to another cluster \n",
      "\n",
      "Error per cluster:  {6.0: 0.1040809151197133, 5.0: 1.1753888635465755, 3.0: 1.6475782725290824, 1.0: 0.08655621405566227, 0.0: 0.09379235142244916, 11.0: 0.06057623740804323, 4.0: 0.20695370806463187, 9.0: 1.6771466611574566, 8.0: 0.1169009908397308, 10.0: 9.470164297449326, 7.0: 0.06609478011967244, 2.0: 0.06846446154914672}\n",
      "New error:  2.7611486074868155\n",
      "Moved  422  users to another cluster \n",
      "\n",
      "Error per cluster:  {6.0: 0.04964834338441852, 5.0: 0.3299331250731427, 3.0: 0.5742770692368585, 1.0: 0.03993810988330365, 0.0: 0.04974407653149866, 11.0: 4.96516787522733, 4.0: 0.11328789650433282, 9.0: 0.6750850657883597, 8.0: 0.04813701949674758, 10.0: 4.633393928458404, 7.0: 0.048057409390532095, 2.0: 0.03918905417042994}\n",
      "New error:  2.7611485608884747\n",
      "Moved  488  users to another cluster \n",
      "\n",
      "Error per cluster:  {6.0: 0.03135971280836674, 5.0: 0.1671671479187056, 3.0: 0.278079132206242, 1.0: 0.028689477396027813, 0.0: 0.03080128138585318, 11.0: 1.496545409176384, 4.0: 0.0781719725279333, 9.0: 0.3570303051285102, 8.0: 0.03158523191851423, 10.0: 1.6742852137819404, 7.0: 0.030406898402182237, 2.0: 4.6483888712832835}\n",
      "New error:  2.7611485285321677\n",
      "CPU times: user 4min 5s, sys: 24min 13s, total: 28min 18s\n",
      "Wall time: 4min 54s\n"
     ]
    }
   ],
   "source": [
    "%%time\n",
    "clusters_model, cluster_per_user, clusters_parameters = clusterwise_regression(train_targets,\n",
    "                                                                               test_targets,\n",
    "                                                                               cluster_column = 'GMM_Pair',\n",
    "                                                                               columns_wo_TS = ['clusters_r','clusters_m','clusters_f','GMM_Voting','GMM_Pair'],\n",
    "                                                                               gridsearch_limit = 1)"
   ]
  },
  {
   "cell_type": "code",
   "execution_count": 23,
   "metadata": {},
   "outputs": [
    {
     "name": "stdout",
     "output_type": "stream",
     "text": [
      "CPU times: user 30.5 s, sys: 2min 56s, total: 3min 27s\n",
      "Wall time: 1min 47s\n"
     ]
    }
   ],
   "source": [
    "%%time\n",
    "res = final_prediction_after_clusterwise_reg(train_targets,test_targets,step ='before_classifier',\n",
    "                                      clusters = clusters_model,\n",
    "                                      clusters_parameters = clusters_parameters,\n",
    "                                      new_clusters_for_users = cluster_per_user,\n",
    "                                      cluster_column = 'GMM_Pair',\n",
    "                                             gridsearch_use = True, \n",
    "                                      columns_wo_TS = ['clusters_r','clusters_m','clusters_f','GMM_Voting','GMM_Pair'])"
   ]
  },
  {
   "cell_type": "code",
   "execution_count": 24,
   "metadata": {},
   "outputs": [
    {
     "data": {
      "text/html": [
       "<div>\n",
       "<style scoped>\n",
       "    .dataframe tbody tr th:only-of-type {\n",
       "        vertical-align: middle;\n",
       "    }\n",
       "\n",
       "    .dataframe tbody tr th {\n",
       "        vertical-align: top;\n",
       "    }\n",
       "\n",
       "    .dataframe thead th {\n",
       "        text-align: right;\n",
       "    }\n",
       "</style>\n",
       "<table border=\"1\" class=\"dataframe\">\n",
       "  <thead>\n",
       "    <tr style=\"text-align: right;\">\n",
       "      <th></th>\n",
       "      <th>id</th>\n",
       "      <th>cluster_id</th>\n",
       "      <th>step</th>\n",
       "      <th>method</th>\n",
       "      <th>model</th>\n",
       "      <th>RMSE</th>\n",
       "      <th>date</th>\n",
       "      <th>predicted_value</th>\n",
       "      <th>true_value</th>\n",
       "    </tr>\n",
       "  </thead>\n",
       "  <tbody>\n",
       "    <tr>\n",
       "      <th>431</th>\n",
       "      <td>12237</td>\n",
       "      <td>GMM_Pair_11.0</td>\n",
       "      <td>before_classifier</td>\n",
       "      <td>clustered_clusterwise</td>\n",
       "      <td>trmf</td>\n",
       "      <td>4.965168</td>\n",
       "      <td>1998-04-22</td>\n",
       "      <td>0.070021</td>\n",
       "      <td>0.0</td>\n",
       "    </tr>\n",
       "    <tr>\n",
       "      <th>23743</th>\n",
       "      <td>9869</td>\n",
       "      <td>GMM_Pair_11.0</td>\n",
       "      <td>before_classifier</td>\n",
       "      <td>clustered_clusterwise</td>\n",
       "      <td>trmf</td>\n",
       "      <td>4.965168</td>\n",
       "      <td>1998-06-08</td>\n",
       "      <td>1.487941</td>\n",
       "      <td>0.0</td>\n",
       "    </tr>\n",
       "  </tbody>\n",
       "</table>\n",
       "</div>"
      ],
      "text/plain": [
       "          id     cluster_id               step                 method model  \\\n",
       "431    12237  GMM_Pair_11.0  before_classifier  clustered_clusterwise  trmf   \n",
       "23743   9869  GMM_Pair_11.0  before_classifier  clustered_clusterwise  trmf   \n",
       "\n",
       "           RMSE       date  predicted_value  true_value  \n",
       "431    4.965168 1998-04-22         0.070021         0.0  \n",
       "23743  4.965168 1998-06-08         1.487941         0.0  "
      ]
     },
     "execution_count": 24,
     "metadata": {},
     "output_type": "execute_result"
    }
   ],
   "source": [
    "res.sample(2)"
   ]
  },
  {
   "cell_type": "code",
   "execution_count": 25,
   "metadata": {},
   "outputs": [],
   "source": [
    "result = result.append(res)"
   ]
  },
  {
   "cell_type": "markdown",
   "metadata": {},
   "source": [
    "## 1.2.1 Theta for GMM_Voting (ids are not moved!)"
   ]
  },
  {
   "cell_type": "code",
   "execution_count": 26,
   "metadata": {},
   "outputs": [
    {
     "name": "stdout",
     "output_type": "stream",
     "text": [
      "CPU times: user 28.4 s, sys: 0 ns, total: 28.4 s\n",
      "Wall time: 37.9 s\n"
     ]
    }
   ],
   "source": [
    "%%time\n",
    "res = theta_prediction(train_targets,test_targets,\n",
    "                 step ='before_classifier',\n",
    "                 cluster_column = 'GMM_Voting',\n",
    "                 columns_wo_TS = ['clusters_r','clusters_m','clusters_f','GMM_Voting','GMM_Pair'])\n",
    "result = result.append(res)"
   ]
  },
  {
   "cell_type": "markdown",
   "metadata": {},
   "source": [
    "## 1.2.2 Theta for GMM_Voting (ids are not moved!)"
   ]
  },
  {
   "cell_type": "code",
   "execution_count": 27,
   "metadata": {},
   "outputs": [
    {
     "name": "stdout",
     "output_type": "stream",
     "text": [
      "CPU times: user 28.7 s, sys: 0 ns, total: 28.7 s\n",
      "Wall time: 32.7 s\n"
     ]
    }
   ],
   "source": [
    "%%time\n",
    "res = theta_prediction(train_targets,test_targets,\n",
    "                 step ='before_classifier',\n",
    "                 cluster_column = 'GMM_Pair',\n",
    "                 columns_wo_TS = ['clusters_r','clusters_m','clusters_f','GMM_Voting','GMM_Pair'])\n",
    "result = result.append(res)"
   ]
  },
  {
   "cell_type": "markdown",
   "metadata": {},
   "source": [
    "## 2.0 Training the classifier to predict cluster (ids are not moved!)"
   ]
  },
  {
   "cell_type": "code",
   "execution_count": 28,
   "metadata": {},
   "outputs": [],
   "source": [
    "predicted_clusters = {}\n",
    "columns_wo_TS = ['clusters_r','clusters_m','clusters_f','GMM_Voting','GMM_Pair']"
   ]
  },
  {
   "cell_type": "markdown",
   "metadata": {},
   "source": [
    "### 2.1 Prediction of clusters for the 1st possible cluster column"
   ]
  },
  {
   "cell_type": "code",
   "execution_count": 29,
   "metadata": {},
   "outputs": [],
   "source": [
    "cluster_column = 'GMM_Voting'"
   ]
  },
  {
   "cell_type": "code",
   "execution_count": 30,
   "metadata": {},
   "outputs": [],
   "source": [
    "# use the classifier on the same length as the length used for training (all minus 70)\n",
    "# Data for training Classifier\n",
    "X_2000_train,test_2000 = train_test_split(df_train.transpose(), test_size=.127, shuffle=False)\n",
    "X_2000_train = X_2000_train.transpose()\n",
    "test_2000 = test_2000.transpose()\n",
    "# Predict clusters using these data\n",
    "X_600_train, test_600= train_test_split(df_test.transpose(), test_size=.127, shuffle=False)\n",
    "X_600_train = X_600_train.transpose()\n",
    "test_600.transpose()\n",
    "y_train_2000 = df_train[cluster_column]\n",
    "X_2000_train = X_2000_train.drop(columns = columns_wo_TS)\n",
    "\n",
    "# Grid SearchCV\n",
    "from xgboost import XGBClassifier \n",
    "params = {\n",
    "        'min_child_weight': [1, 7],\n",
    "        'gamma': [0.5,4],\n",
    "        'subsample': [0.7,0.9],# 0.8, 1.0],\n",
    "        'max_depth': [5]\n",
    "        }\n",
    "clf = XGBClassifier(seed=0, silent=True)\n",
    "clf = GridSearchCV(clf,params,cv=3,n_jobs=-1,verbose=2)"
   ]
  },
  {
   "cell_type": "code",
   "execution_count": 31,
   "metadata": {},
   "outputs": [
    {
     "name": "stdout",
     "output_type": "stream",
     "text": [
      "Fitting 3 folds for each of 8 candidates, totalling 24 fits\n"
     ]
    },
    {
     "name": "stderr",
     "output_type": "stream",
     "text": [
      "[Parallel(n_jobs=-1)]: Using backend LokyBackend with 40 concurrent workers.\n",
      "[Parallel(n_jobs=-1)]: Done  10 out of  24 | elapsed:   43.0s remaining:  1.0min\n",
      "[Parallel(n_jobs=-1)]: Done  24 out of  24 | elapsed:  1.2min finished\n"
     ]
    },
    {
     "name": "stdout",
     "output_type": "stream",
     "text": [
      "CPU times: user 38.7 s, sys: 0 ns, total: 38.7 s\n",
      "Wall time: 2min 17s\n"
     ]
    }
   ],
   "source": [
    "%%time\n",
    "clf.fit(X_2000_train,y_train_2000)\n",
    "clf.best_estimator_\n",
    "# 12 fits - 30 seconds\n",
    "# 108 fits - \n",
    "xgb =clf.best_estimator_"
   ]
  },
  {
   "cell_type": "code",
   "execution_count": 32,
   "metadata": {
    "scrolled": false
   },
   "outputs": [
    {
     "name": "stdout",
     "output_type": "stream",
     "text": [
      "CPU times: user 36.9 s, sys: 0 ns, total: 36.9 s\n",
      "Wall time: 58.7 s\n"
     ]
    }
   ],
   "source": [
    "%%time\n",
    "xgb.fit(X_2000_train.values,y_train_2000.values)\n",
    "predicted_clusters[cluster_column] = xgb.predict(X_600_train.values)"
   ]
  },
  {
   "cell_type": "markdown",
   "metadata": {},
   "source": [
    "### 2.2 Prediction of clusters for the 2nd possible cluster column"
   ]
  },
  {
   "cell_type": "code",
   "execution_count": 33,
   "metadata": {},
   "outputs": [],
   "source": [
    "cluster_column = 'GMM_Pair'"
   ]
  },
  {
   "cell_type": "code",
   "execution_count": 34,
   "metadata": {},
   "outputs": [],
   "source": [
    "# use the classifier on the same length as the length used for training (all minus 70)\n",
    "# Data for training Classifier\n",
    "X_2000_train,test_2000 = train_test_split(df_train.transpose(), test_size=.127, shuffle=False)\n",
    "X_2000_train = X_2000_train.transpose()\n",
    "test_2000 = test_2000.transpose()\n",
    "# Predict clusters using these data\n",
    "X_600_train, test_600= train_test_split(df_test.transpose(), test_size=.127, shuffle=False)\n",
    "X_600_train = X_600_train.transpose()\n",
    "test_600.transpose()\n",
    "y_train_2000 = df_train[cluster_column]\n",
    "X_2000_train = X_2000_train.drop(columns = columns_wo_TS)\n",
    "\n",
    "# Grid SearchCV\n",
    "from xgboost import XGBClassifier \n",
    "params = {\n",
    "        'min_child_weight': [1, 7],\n",
    "        'gamma': [0.5,4],\n",
    "        'subsample': [0.7,0.9],# 0.8, 1.0],\n",
    "        'max_depth': [5]\n",
    "        }\n",
    "clf = XGBClassifier(seed=0, silent=True)\n",
    "clf = GridSearchCV(clf,params,cv=3,n_jobs=-1,verbose=2)"
   ]
  },
  {
   "cell_type": "code",
   "execution_count": 35,
   "metadata": {},
   "outputs": [
    {
     "name": "stdout",
     "output_type": "stream",
     "text": [
      "Fitting 3 folds for each of 8 candidates, totalling 24 fits\n"
     ]
    },
    {
     "name": "stderr",
     "output_type": "stream",
     "text": [
      "[Parallel(n_jobs=-1)]: Using backend LokyBackend with 40 concurrent workers.\n",
      "[Parallel(n_jobs=-1)]: Done  10 out of  24 | elapsed:   20.0s remaining:   28.0s\n",
      "[Parallel(n_jobs=-1)]: Done  24 out of  24 | elapsed:   42.6s finished\n"
     ]
    },
    {
     "name": "stdout",
     "output_type": "stream",
     "text": [
      "CPU times: user 36.2 s, sys: 0 ns, total: 36.2 s\n",
      "Wall time: 1min 19s\n"
     ]
    }
   ],
   "source": [
    "%%time\n",
    "clf.fit(X_2000_train,y_train_2000)\n",
    "clf.best_estimator_\n",
    "# 12 fits - 30 seconds\n",
    "xgb =clf.best_estimator_"
   ]
  },
  {
   "cell_type": "code",
   "execution_count": 36,
   "metadata": {},
   "outputs": [
    {
     "name": "stdout",
     "output_type": "stream",
     "text": [
      "CPU times: user 39.2 s, sys: 0 ns, total: 39.2 s\n",
      "Wall time: 39.3 s\n"
     ]
    }
   ],
   "source": [
    "%%time\n",
    "xgb.fit(X_2000_train.values,y_train_2000.values)\n",
    "predicted_clusters[cluster_column] = xgb.predict(X_600_train.values)"
   ]
  },
  {
   "cell_type": "markdown",
   "metadata": {},
   "source": [
    "### 2.9 Add predictions to dataframe "
   ]
  },
  {
   "cell_type": "code",
   "execution_count": 37,
   "metadata": {},
   "outputs": [],
   "source": [
    "for k,v in predicted_clusters.items():\n",
    "    df_test.insert(0,k,v)"
   ]
  },
  {
   "cell_type": "markdown",
   "metadata": {},
   "source": [
    "## 3.0 Prediction with predicted clusters on full data (2600 rows)"
   ]
  },
  {
   "cell_type": "code",
   "execution_count": 38,
   "metadata": {},
   "outputs": [],
   "source": [
    "# Add additional users on top of starting 2000 \n",
    "df_with_predicted_labels = df_train.append(df_test)"
   ]
  },
  {
   "cell_type": "code",
   "execution_count": 39,
   "metadata": {},
   "outputs": [],
   "source": [
    "train_targets, test_targets= train_test_split(df_with_predicted_labels.transpose(), test_size=.127, shuffle=False)\n",
    "train_targets = train_targets.transpose()\n",
    "test_targets = test_targets.transpose()"
   ]
  },
  {
   "cell_type": "markdown",
   "metadata": {},
   "source": [
    "## 3.1 TRMF"
   ]
  },
  {
   "cell_type": "markdown",
   "metadata": {},
   "source": [
    "## 3.1.1 TMRF with clusterwise prediction for GMM_Voting"
   ]
  },
  {
   "cell_type": "code",
   "execution_count": 40,
   "metadata": {},
   "outputs": [
    {
     "name": "stdout",
     "output_type": "stream",
     "text": [
      "Error per cluster:  {2.0: 1.9082018650721824, 5.0: 4.441425255703498, 0.0: 6.417924412863097, 3.0: 5.319232471586175, 8.0: 5.670557121075327, 1.0: 4.448359251295415, 6.0: 5.482681270075262, 9.0: 6.85678107909232}\n",
      "New error:  2.6428809076008424\n",
      "Moved  178  users to another cluster \n",
      "\n",
      "Error per cluster:  {2.0: 2.7289688222470225, 5.0: 1.6941887600955277, 0.0: 2.614854096477642, 3.0: 1.6914299406696114, 8.0: 1.3862871272126336, 1.0: 1.4904148466622271, 6.0: 1.8459910814322251, 9.0: 2.369293061196182}\n",
      "New error:  2.6428808653256795\n",
      "Moved  854  users to another cluster \n",
      "\n",
      "Error per cluster:  {2.0: 0.38633683066620583, 5.0: 0.6464880621146304, 0.0: 0.9477157348198544, 3.0: 0.5530669060761029, 8.0: 7.365807460381722, 1.0: 0.43029552011881717, 6.0: 0.889632239857322, 9.0: 1.0718204442821748}\n",
      "New error:  2.6428808412241747\n",
      "Moved  367  users to another cluster \n",
      "\n",
      "Error per cluster:  {2.0: 2.5517646126240607, 5.0: 0.35761199566102597, 0.0: 0.46515382239355907, 3.0: 0.25084632094759474, 8.0: 3.6579111455449937, 1.0: 0.23444413046938084, 6.0: 0.4510393986159552, 9.0: 0.49522328474374333}\n",
      "New error:  2.642880793818735\n",
      "CPU times: user 16min 25s, sys: 1h 34min 44s, total: 1h 51min 9s\n",
      "Wall time: 10min 36s\n"
     ]
    }
   ],
   "source": [
    "%%time\n",
    "clusters_model, cluster_per_user, clusters_parameters = clusterwise_regression(train_targets,\n",
    "                                                                               test_targets,\n",
    "                                                                               cluster_column = 'GMM_Voting',\n",
    "                                                                               columns_wo_TS = ['clusters_r','clusters_m','clusters_f','GMM_Voting','GMM_Pair'],\n",
    "                                                                               gridsearch_limit = 1)"
   ]
  },
  {
   "cell_type": "code",
   "execution_count": 41,
   "metadata": {
    "scrolled": true
   },
   "outputs": [
    {
     "name": "stdout",
     "output_type": "stream",
     "text": [
      "CPU times: user 2min 43s, sys: 14min 10s, total: 16min 53s\n",
      "Wall time: 5min 22s\n"
     ]
    }
   ],
   "source": [
    "%%time\n",
    "res = final_prediction_after_clusterwise_reg(train_targets,test_targets,step ='after_classifier',\n",
    "                                      clusters = clusters_model,\n",
    "                                      clusters_parameters = clusters_parameters,\n",
    "                                      new_clusters_for_users = cluster_per_user,\n",
    "                                      cluster_column = 'GMM_Voting',\n",
    "                                             gridsearch_use = True, \n",
    "                                      columns_wo_TS = ['clusters_r','clusters_m','clusters_f','GMM_Voting','GMM_Pair'])"
   ]
  },
  {
   "cell_type": "code",
   "execution_count": 42,
   "metadata": {},
   "outputs": [
    {
     "data": {
      "text/html": [
       "<div>\n",
       "<style scoped>\n",
       "    .dataframe tbody tr th:only-of-type {\n",
       "        vertical-align: middle;\n",
       "    }\n",
       "\n",
       "    .dataframe tbody tr th {\n",
       "        vertical-align: top;\n",
       "    }\n",
       "\n",
       "    .dataframe thead th {\n",
       "        text-align: right;\n",
       "    }\n",
       "</style>\n",
       "<table border=\"1\" class=\"dataframe\">\n",
       "  <thead>\n",
       "    <tr style=\"text-align: right;\">\n",
       "      <th></th>\n",
       "      <th>id</th>\n",
       "      <th>cluster_id</th>\n",
       "      <th>step</th>\n",
       "      <th>method</th>\n",
       "      <th>model</th>\n",
       "      <th>RMSE</th>\n",
       "      <th>date</th>\n",
       "      <th>predicted_value</th>\n",
       "      <th>true_value</th>\n",
       "    </tr>\n",
       "  </thead>\n",
       "  <tbody>\n",
       "    <tr>\n",
       "      <th>81772</th>\n",
       "      <td>15750</td>\n",
       "      <td>GMM_Voting_8.0</td>\n",
       "      <td>after_classifier</td>\n",
       "      <td>clustered_clusterwise</td>\n",
       "      <td>trmf</td>\n",
       "      <td>7.365807</td>\n",
       "      <td>1998-06-25</td>\n",
       "      <td>0.306702</td>\n",
       "      <td>0.0</td>\n",
       "    </tr>\n",
       "    <tr>\n",
       "      <th>491692</th>\n",
       "      <td>10148</td>\n",
       "      <td>GMM_Voting_2.0</td>\n",
       "      <td>after_classifier</td>\n",
       "      <td>clustered_clusterwise</td>\n",
       "      <td>trmf</td>\n",
       "      <td>0.386337</td>\n",
       "      <td>1998-06-20</td>\n",
       "      <td>0.030189</td>\n",
       "      <td>0.0</td>\n",
       "    </tr>\n",
       "  </tbody>\n",
       "</table>\n",
       "</div>"
      ],
      "text/plain": [
       "           id      cluster_id              step                 method model  \\\n",
       "81772   15750  GMM_Voting_8.0  after_classifier  clustered_clusterwise  trmf   \n",
       "491692  10148  GMM_Voting_2.0  after_classifier  clustered_clusterwise  trmf   \n",
       "\n",
       "            RMSE       date  predicted_value  true_value  \n",
       "81772   7.365807 1998-06-25         0.306702         0.0  \n",
       "491692  0.386337 1998-06-20         0.030189         0.0  "
      ]
     },
     "execution_count": 42,
     "metadata": {},
     "output_type": "execute_result"
    }
   ],
   "source": [
    "res.sample(2)"
   ]
  },
  {
   "cell_type": "code",
   "execution_count": 43,
   "metadata": {},
   "outputs": [],
   "source": [
    "result = result.append(res)"
   ]
  },
  {
   "cell_type": "markdown",
   "metadata": {},
   "source": [
    "## 3.1.2 TMRF with clusterwise prediction for GMM_Pair"
   ]
  },
  {
   "cell_type": "code",
   "execution_count": 44,
   "metadata": {},
   "outputs": [
    {
     "name": "stdout",
     "output_type": "stream",
     "text": [
      "Error per cluster:  {6.0: 1.6753176783468933, 5.0: 4.50155562490698, 3.0: 6.055327697789854, 1.0: 0.7239579630663387, 0.0: 2.0276654997335655, 11.0: 0.2044735745707937, 4.0: 1.9369544471357756, 9.0: 5.930651322984639, 8.0: 1.062677797047635, 10.0: 0.09169324993639597, 7.0: 0.12577274382681333, 2.0: 0.2126299683427585}\n",
      "New error:  2.6428808279812745\n",
      "Moved  793  users to another cluster \n",
      "\n",
      "Error per cluster:  {6.0: 0.2543665372516082, 5.0: 1.1882537245656455, 3.0: 1.9469218852128456, 1.0: 0.08655621405566227, 0.0: 0.2519481507761946, 11.0: 0.06057623740804323, 4.0: 0.3801780026311857, 9.0: 2.3479026451943446, 8.0: 0.1169009908397308, 10.0: 9.015926090450913, 7.0: 0.06609478011967244, 2.0: 0.0729962752807712}\n",
      "New error:  2.6428808753174833\n",
      "Error has increased. Backtrack to previous iteration\n",
      "CPU times: user 4min 23s, sys: 27min 7s, total: 31min 30s\n",
      "Wall time: 4min 1s\n"
     ]
    }
   ],
   "source": [
    "%%time\n",
    "clusters_model, cluster_per_user, clusters_parameters = clusterwise_regression(train_targets,\n",
    "                                                                               test_targets,\n",
    "                                                                               cluster_column = 'GMM_Pair',\n",
    "                                                                               columns_wo_TS = ['clusters_r','clusters_m','clusters_f','GMM_Voting','GMM_Pair'],\n",
    "                                                                               gridsearch_limit = 1)"
   ]
  },
  {
   "cell_type": "code",
   "execution_count": 45,
   "metadata": {},
   "outputs": [
    {
     "name": "stdout",
     "output_type": "stream",
     "text": [
      "CPU times: user 2min 7s, sys: 13min 56s, total: 16min 4s\n",
      "Wall time: 1min 37s\n"
     ]
    }
   ],
   "source": [
    "%%time\n",
    "res = final_prediction_after_clusterwise_reg(train_targets,test_targets,step ='after_classifier',\n",
    "                                      clusters = clusters_model,\n",
    "                                      clusters_parameters = clusters_parameters,\n",
    "                                      new_clusters_for_users = cluster_per_user,\n",
    "                                      cluster_column = 'GMM_Pair',\n",
    "                                             gridsearch_use = True, \n",
    "                                      columns_wo_TS = ['clusters_r','clusters_m','clusters_f','GMM_Voting','GMM_Pair'])"
   ]
  },
  {
   "cell_type": "code",
   "execution_count": 46,
   "metadata": {},
   "outputs": [
    {
     "data": {
      "text/html": [
       "<div>\n",
       "<style scoped>\n",
       "    .dataframe tbody tr th:only-of-type {\n",
       "        vertical-align: middle;\n",
       "    }\n",
       "\n",
       "    .dataframe tbody tr th {\n",
       "        vertical-align: top;\n",
       "    }\n",
       "\n",
       "    .dataframe thead th {\n",
       "        text-align: right;\n",
       "    }\n",
       "</style>\n",
       "<table border=\"1\" class=\"dataframe\">\n",
       "  <thead>\n",
       "    <tr style=\"text-align: right;\">\n",
       "      <th></th>\n",
       "      <th>id</th>\n",
       "      <th>cluster_id</th>\n",
       "      <th>step</th>\n",
       "      <th>method</th>\n",
       "      <th>model</th>\n",
       "      <th>RMSE</th>\n",
       "      <th>date</th>\n",
       "      <th>predicted_value</th>\n",
       "      <th>true_value</th>\n",
       "    </tr>\n",
       "  </thead>\n",
       "  <tbody>\n",
       "    <tr>\n",
       "      <th>252535</th>\n",
       "      <td>21763</td>\n",
       "      <td>GMM_Pair_6.0</td>\n",
       "      <td>after_classifier</td>\n",
       "      <td>clustered_clusterwise</td>\n",
       "      <td>trmf</td>\n",
       "      <td>1.675318</td>\n",
       "      <td>1998-05-28</td>\n",
       "      <td>0.258445</td>\n",
       "      <td>0.0</td>\n",
       "    </tr>\n",
       "    <tr>\n",
       "      <th>405305</th>\n",
       "      <td>192</td>\n",
       "      <td>GMM_Pair_6.0</td>\n",
       "      <td>after_classifier</td>\n",
       "      <td>clustered_clusterwise</td>\n",
       "      <td>trmf</td>\n",
       "      <td>1.675318</td>\n",
       "      <td>1998-06-19</td>\n",
       "      <td>0.336618</td>\n",
       "      <td>0.0</td>\n",
       "    </tr>\n",
       "  </tbody>\n",
       "</table>\n",
       "</div>"
      ],
      "text/plain": [
       "           id    cluster_id              step                 method model  \\\n",
       "252535  21763  GMM_Pair_6.0  after_classifier  clustered_clusterwise  trmf   \n",
       "405305    192  GMM_Pair_6.0  after_classifier  clustered_clusterwise  trmf   \n",
       "\n",
       "            RMSE       date  predicted_value  true_value  \n",
       "252535  1.675318 1998-05-28         0.258445         0.0  \n",
       "405305  1.675318 1998-06-19         0.336618         0.0  "
      ]
     },
     "execution_count": 46,
     "metadata": {},
     "output_type": "execute_result"
    }
   ],
   "source": [
    "res.sample(2)"
   ]
  },
  {
   "cell_type": "code",
   "execution_count": 47,
   "metadata": {},
   "outputs": [],
   "source": [
    "result = result.append(res)"
   ]
  },
  {
   "cell_type": "markdown",
   "metadata": {},
   "source": [
    "## 3.2.1 Theta for GMM_Voting (ids are not moved!)"
   ]
  },
  {
   "cell_type": "code",
   "execution_count": 48,
   "metadata": {},
   "outputs": [
    {
     "name": "stdout",
     "output_type": "stream",
     "text": [
      "CPU times: user 1min 41s, sys: 36 ms, total: 1min 41s\n",
      "Wall time: 1min 41s\n"
     ]
    }
   ],
   "source": [
    "%%time\n",
    "res = theta_prediction(train_targets,test_targets,\n",
    "                 step ='after_classifier',\n",
    "                 cluster_column = 'GMM_Voting',\n",
    "                 columns_wo_TS = ['clusters_r','clusters_m','clusters_f','GMM_Voting','GMM_Pair'])\n",
    "result = result.append(res)"
   ]
  },
  {
   "cell_type": "markdown",
   "metadata": {},
   "source": [
    "## 3.2.2 Theta for GMM_Voting (ids are not moved!)"
   ]
  },
  {
   "cell_type": "code",
   "execution_count": 49,
   "metadata": {},
   "outputs": [
    {
     "name": "stdout",
     "output_type": "stream",
     "text": [
      "CPU times: user 1min 39s, sys: 0 ns, total: 1min 39s\n",
      "Wall time: 1min 39s\n"
     ]
    }
   ],
   "source": [
    "%%time\n",
    "res = theta_prediction(train_targets,test_targets,\n",
    "                 step ='after_classifier',\n",
    "                 cluster_column = 'GMM_Pair',\n",
    "                 columns_wo_TS = ['clusters_r','clusters_m','clusters_f','GMM_Voting','GMM_Pair'])"
   ]
  },
  {
   "cell_type": "code",
   "execution_count": 53,
   "metadata": {},
   "outputs": [
    {
     "data": {
      "text/plain": [
       "array(['GMM_Pair_6.0', 'GMM_Pair_5.0', 'GMM_Pair_3.0', 'GMM_Pair_1.0',\n",
       "       'GMM_Pair_0.0', 'GMM_Pair_11.0', 'GMM_Pair_4.0', 'GMM_Pair_9.0',\n",
       "       'GMM_Pair_8.0', 'GMM_Pair_10.0', 'GMM_Pair_7.0', 'GMM_Pair_2.0'],\n",
       "      dtype=object)"
      ]
     },
     "execution_count": 53,
     "metadata": {},
     "output_type": "execute_result"
    }
   ],
   "source": [
    "res.cluster_id.unique()"
   ]
  },
  {
   "cell_type": "code",
   "execution_count": 50,
   "metadata": {},
   "outputs": [],
   "source": [
    "result = result.append(res)"
   ]
  },
  {
   "cell_type": "markdown",
   "metadata": {},
   "source": [
    "### Save to file "
   ]
  },
  {
   "cell_type": "code",
   "execution_count": 51,
   "metadata": {},
   "outputs": [
    {
     "data": {
      "text/html": [
       "<div>\n",
       "<style scoped>\n",
       "    .dataframe tbody tr th:only-of-type {\n",
       "        vertical-align: middle;\n",
       "    }\n",
       "\n",
       "    .dataframe tbody tr th {\n",
       "        vertical-align: top;\n",
       "    }\n",
       "\n",
       "    .dataframe thead th {\n",
       "        text-align: right;\n",
       "    }\n",
       "</style>\n",
       "<table border=\"1\" class=\"dataframe\">\n",
       "  <thead>\n",
       "    <tr style=\"text-align: right;\">\n",
       "      <th></th>\n",
       "      <th>id</th>\n",
       "      <th>cluster_id</th>\n",
       "      <th>step</th>\n",
       "      <th>method</th>\n",
       "      <th>model</th>\n",
       "      <th>RMSE</th>\n",
       "      <th>date</th>\n",
       "      <th>predicted_value</th>\n",
       "      <th>true_value</th>\n",
       "    </tr>\n",
       "  </thead>\n",
       "  <tbody>\n",
       "    <tr>\n",
       "      <th>287450</th>\n",
       "      <td>9301</td>\n",
       "      <td>GMM_Pair_6.0</td>\n",
       "      <td>after_classifier</td>\n",
       "      <td>clustered_clusterwise</td>\n",
       "      <td>trmf</td>\n",
       "      <td>1.675318</td>\n",
       "      <td>1998-06-02</td>\n",
       "      <td>0.030189</td>\n",
       "      <td>0.0</td>\n",
       "    </tr>\n",
       "    <tr>\n",
       "      <th>37305</th>\n",
       "      <td>1855</td>\n",
       "      <td>GMM_Voting_2.0</td>\n",
       "      <td>before_classifier</td>\n",
       "      <td>clustered</td>\n",
       "      <td>theta</td>\n",
       "      <td>0.655307</td>\n",
       "      <td>1998-05-22</td>\n",
       "      <td>-0.000616</td>\n",
       "      <td>0.0</td>\n",
       "    </tr>\n",
       "  </tbody>\n",
       "</table>\n",
       "</div>"
      ],
      "text/plain": [
       "          id      cluster_id               step                 method  model  \\\n",
       "287450  9301    GMM_Pair_6.0   after_classifier  clustered_clusterwise   trmf   \n",
       "37305   1855  GMM_Voting_2.0  before_classifier              clustered  theta   \n",
       "\n",
       "            RMSE       date  predicted_value  true_value  \n",
       "287450  1.675318 1998-06-02         0.030189         0.0  \n",
       "37305   0.655307 1998-05-22        -0.000616         0.0  "
      ]
     },
     "execution_count": 51,
     "metadata": {},
     "output_type": "execute_result"
    }
   ],
   "source": [
    "# On both predicted_values and true_value the normalizatin have to be performed\n",
    "result.to_csv(prediction_path)\n",
    "result.sample(2)"
   ]
  }
 ],
 "metadata": {
  "kernelspec": {
   "display_name": "Python 3",
   "language": "python",
   "name": "python3"
  },
  "language_info": {
   "codemirror_mode": {
    "name": "ipython",
    "version": 3
   },
   "file_extension": ".py",
   "mimetype": "text/x-python",
   "name": "python",
   "nbconvert_exporter": "python",
   "pygments_lexer": "ipython3",
   "version": "3.6.7"
  }
 },
 "nbformat": 4,
 "nbformat_minor": 2
}
